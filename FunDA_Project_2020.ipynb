{
 "cells": [
  {
   "cell_type": "markdown",
   "metadata": {},
   "source": [
    "![GMIT](GMIT-logo.png)"
   ]
  },
  {
   "cell_type": "markdown",
   "metadata": {},
   "source": [
    "#  <div align=\"center\"> Fundamentals of Data Analysis <div>\n",
    "## <div align=\"center\"> Project_2020 <div>\n",
    "\n",
    "## Author: Shane Rylands\n",
    "\n",
    "### G00387904@gmit.ie\n",
    "\n",
    "***\n",
    "\n",
    "## <u>Instructions<u>\n",
    "\n",
    "In this project you must perform and explain simple linear regression using Python on the `powerproduction` dataset available on Moodle. The goal is to accurately predict wind turbine power output from wind speed values using the data set as a basis.\n",
    "\n",
    "Your submission must be in the form of a git repository containing, at a minimum, the following items:\n",
    "\n",
    "1. Jupyter notebook that performs simple linear regression on the data set.\n",
    "2. In that notebook, an explanation of your regression and an analysis of its accuracy.\n",
    "3. Standard items in a git repository such as a README.\n",
    "\n",
    "To enhance your submission, you might consider comparing simple linear regression to other types of regression on this data set. Rest assured, all the above concepts will be explored in lecture videos and other materials in the coming semester.\n",
    "***"
   ]
  },
  {
   "cell_type": "markdown",
   "metadata": {},
   "source": [
    "### To Do\n",
    "\n",
    "add a condition to the predict that if input is over under a value then reject\n",
    "\n",
    "look into bayesian criteria  https://www.youtube.com/watch?v=QptI-vDle8Y\n",
    "\n",
    "look into bias https://www.ritchieng.com/machine-learning-evaluate-linear-regression-model/\n",
    "\n",
    "Bayes information criteria \n",
    "\n",
    "Use scikit learn to remove outliers "
   ]
  },
  {
   "cell_type": "markdown",
   "metadata": {},
   "source": [
    "## Regression\n",
    "\n",
    "Regression analysis is a supervised machine learning algorithm. With supervised machine learning there is a sample dataset that contains inputs and desired outputs. \n",
    "\n",
    "\n",
    "Under the umbrella of regression analysis there is Simple Linear, Multiple Linear and Polynomial regression, each of which has it's own use cases. With that estimates a relationship between an output and it's associated inputs. This relationship is then used to make predictions of outcomes based upon given inputs. With regression analysis we have a target, the value we hope to predict, and what we used to predict our target variable, the predictor. The target is referred to as the dependent as it's value is dependent upon the input variables and the values we use to predict our target variable is known as the independent as it is not influenced by the dependent. The independent is often denoted as `X` and the independent as `y`.\n",
    "\n",
    "### <u> Linear Regression <u>\n",
    "    \n",
    "Linear regression is applicable when a linear relationship exists between the dependent and independent or that the value of `y` can be denoted as $y = m * x + c$. We shall now investigate whether our dataset is suitable for linear regression.\n",
    "\n",
    "explain best squared rule\n",
    "\n",
    "https://en.wikipedia.org/wiki/Machine_learning"
   ]
  },
  {
   "cell_type": "code",
   "execution_count": 2,
   "metadata": {},
   "outputs": [],
   "source": [
    "# Import necessary libraries \n",
    "import numpy as np\n",
    "import matplotlib.pyplot as plt\n",
    "import pandas as pd\n",
    "import seaborn as sns\n",
    "\n",
    "# Plots will print to interface \n",
    "%matplotlib inline\n",
    "# Set the plot size \n",
    "plt.rcParams['figure.figsize'] = (15, 10)\n",
    "\n",
    "# Set the style of plotting matplotlib will use\n",
    "plt.style.use('ggplot')"
   ]
  },
  {
   "cell_type": "code",
   "execution_count": 3,
   "metadata": {},
   "outputs": [],
   "source": [
    "# use pandas to read the dataset\n",
    "df = pd.read_csv('powerproduction.csv')"
   ]
  },
  {
   "cell_type": "markdown",
   "metadata": {},
   "source": [
    "### <u>Investigate The Dataset<u>\n",
    "    \n",
    "Now that we have read the file into pandas we can begin our investigation of it. "
   ]
  },
  {
   "cell_type": "code",
   "execution_count": 4,
   "metadata": {},
   "outputs": [
    {
     "name": "stdout",
     "output_type": "stream",
     "text": [
      "<class 'pandas.core.frame.DataFrame'>\n",
      "RangeIndex: 500 entries, 0 to 499\n",
      "Data columns (total 2 columns):\n",
      "speed    500 non-null float64\n",
      "power    500 non-null float64\n",
      "dtypes: float64(2)\n",
      "memory usage: 7.9 KB\n"
     ]
    }
   ],
   "source": [
    "df.info()"
   ]
  },
  {
   "cell_type": "code",
   "execution_count": 5,
   "metadata": {
    "scrolled": true
   },
   "outputs": [
    {
     "data": {
      "text/html": [
       "<div>\n",
       "<style scoped>\n",
       "    .dataframe tbody tr th:only-of-type {\n",
       "        vertical-align: middle;\n",
       "    }\n",
       "\n",
       "    .dataframe tbody tr th {\n",
       "        vertical-align: top;\n",
       "    }\n",
       "\n",
       "    .dataframe thead th {\n",
       "        text-align: right;\n",
       "    }\n",
       "</style>\n",
       "<table border=\"1\" class=\"dataframe\">\n",
       "  <thead>\n",
       "    <tr style=\"text-align: right;\">\n",
       "      <th></th>\n",
       "      <th>speed</th>\n",
       "      <th>power</th>\n",
       "    </tr>\n",
       "  </thead>\n",
       "  <tbody>\n",
       "    <tr>\n",
       "      <td>0</td>\n",
       "      <td>0.000</td>\n",
       "      <td>0.0</td>\n",
       "    </tr>\n",
       "    <tr>\n",
       "      <td>1</td>\n",
       "      <td>0.125</td>\n",
       "      <td>0.0</td>\n",
       "    </tr>\n",
       "    <tr>\n",
       "      <td>2</td>\n",
       "      <td>0.150</td>\n",
       "      <td>0.0</td>\n",
       "    </tr>\n",
       "    <tr>\n",
       "      <td>3</td>\n",
       "      <td>0.225</td>\n",
       "      <td>0.0</td>\n",
       "    </tr>\n",
       "    <tr>\n",
       "      <td>4</td>\n",
       "      <td>0.275</td>\n",
       "      <td>0.0</td>\n",
       "    </tr>\n",
       "    <tr>\n",
       "      <td>495</td>\n",
       "      <td>24.775</td>\n",
       "      <td>0.0</td>\n",
       "    </tr>\n",
       "    <tr>\n",
       "      <td>496</td>\n",
       "      <td>24.850</td>\n",
       "      <td>0.0</td>\n",
       "    </tr>\n",
       "    <tr>\n",
       "      <td>497</td>\n",
       "      <td>24.875</td>\n",
       "      <td>0.0</td>\n",
       "    </tr>\n",
       "    <tr>\n",
       "      <td>498</td>\n",
       "      <td>24.950</td>\n",
       "      <td>0.0</td>\n",
       "    </tr>\n",
       "    <tr>\n",
       "      <td>499</td>\n",
       "      <td>25.000</td>\n",
       "      <td>0.0</td>\n",
       "    </tr>\n",
       "  </tbody>\n",
       "</table>\n",
       "</div>"
      ],
      "text/plain": [
       "      speed  power\n",
       "0     0.000    0.0\n",
       "1     0.125    0.0\n",
       "2     0.150    0.0\n",
       "3     0.225    0.0\n",
       "4     0.275    0.0\n",
       "495  24.775    0.0\n",
       "496  24.850    0.0\n",
       "497  24.875    0.0\n",
       "498  24.950    0.0\n",
       "499  25.000    0.0"
      ]
     },
     "execution_count": 5,
     "metadata": {},
     "output_type": "execute_result"
    }
   ],
   "source": [
    "# Check for issues in the file by comparing the head and tail\n",
    "def ends(df, x=5):\n",
    "    return df.head(x).append(df.tail(x))\n",
    "ends(df)\n",
    "\n",
    "# https://stackoverflow.com/questions/42504984/python-pandas-select-both-head-and-tail"
   ]
  },
  {
   "cell_type": "markdown",
   "metadata": {},
   "source": [
    "The file contains 2 columns; `Speed` & `Power` each with 500 rows of float values. Looking at the head and tail, power appears to be 0, so lets investigate further. "
   ]
  },
  {
   "cell_type": "code",
   "execution_count": 6,
   "metadata": {
    "scrolled": true
   },
   "outputs": [
    {
     "data": {
      "text/html": [
       "<div>\n",
       "<style scoped>\n",
       "    .dataframe tbody tr th:only-of-type {\n",
       "        vertical-align: middle;\n",
       "    }\n",
       "\n",
       "    .dataframe tbody tr th {\n",
       "        vertical-align: top;\n",
       "    }\n",
       "\n",
       "    .dataframe thead th {\n",
       "        text-align: right;\n",
       "    }\n",
       "</style>\n",
       "<table border=\"1\" class=\"dataframe\">\n",
       "  <thead>\n",
       "    <tr style=\"text-align: right;\">\n",
       "      <th></th>\n",
       "      <th>speed</th>\n",
       "      <th>power</th>\n",
       "    </tr>\n",
       "  </thead>\n",
       "  <tbody>\n",
       "    <tr>\n",
       "      <td>count</td>\n",
       "      <td>500.000000</td>\n",
       "      <td>500.000000</td>\n",
       "    </tr>\n",
       "    <tr>\n",
       "      <td>mean</td>\n",
       "      <td>12.590398</td>\n",
       "      <td>48.014584</td>\n",
       "    </tr>\n",
       "    <tr>\n",
       "      <td>std</td>\n",
       "      <td>7.224991</td>\n",
       "      <td>41.614572</td>\n",
       "    </tr>\n",
       "    <tr>\n",
       "      <td>min</td>\n",
       "      <td>0.000000</td>\n",
       "      <td>0.000000</td>\n",
       "    </tr>\n",
       "    <tr>\n",
       "      <td>25%</td>\n",
       "      <td>6.324750</td>\n",
       "      <td>5.288000</td>\n",
       "    </tr>\n",
       "    <tr>\n",
       "      <td>50%</td>\n",
       "      <td>12.550500</td>\n",
       "      <td>41.645500</td>\n",
       "    </tr>\n",
       "    <tr>\n",
       "      <td>75%</td>\n",
       "      <td>18.775250</td>\n",
       "      <td>93.537000</td>\n",
       "    </tr>\n",
       "    <tr>\n",
       "      <td>max</td>\n",
       "      <td>25.000000</td>\n",
       "      <td>113.556000</td>\n",
       "    </tr>\n",
       "  </tbody>\n",
       "</table>\n",
       "</div>"
      ],
      "text/plain": [
       "            speed       power\n",
       "count  500.000000  500.000000\n",
       "mean    12.590398   48.014584\n",
       "std      7.224991   41.614572\n",
       "min      0.000000    0.000000\n",
       "25%      6.324750    5.288000\n",
       "50%     12.550500   41.645500\n",
       "75%     18.775250   93.537000\n",
       "max     25.000000  113.556000"
      ]
     },
     "execution_count": 6,
     "metadata": {},
     "output_type": "execute_result"
    }
   ],
   "source": [
    "# Get a summary of the file\n",
    "df.describe()"
   ]
  },
  {
   "cell_type": "code",
   "execution_count": 7,
   "metadata": {
    "scrolled": true
   },
   "outputs": [
    {
     "data": {
      "text/html": [
       "<div>\n",
       "<style scoped>\n",
       "    .dataframe tbody tr th:only-of-type {\n",
       "        vertical-align: middle;\n",
       "    }\n",
       "\n",
       "    .dataframe tbody tr th {\n",
       "        vertical-align: top;\n",
       "    }\n",
       "\n",
       "    .dataframe thead th {\n",
       "        text-align: right;\n",
       "    }\n",
       "</style>\n",
       "<table border=\"1\" class=\"dataframe\">\n",
       "  <thead>\n",
       "    <tr style=\"text-align: right;\">\n",
       "      <th></th>\n",
       "      <th>speed</th>\n",
       "      <th>power</th>\n",
       "    </tr>\n",
       "  </thead>\n",
       "  <tbody>\n",
       "    <tr>\n",
       "      <td>245</td>\n",
       "      <td>12.387</td>\n",
       "      <td>37.159</td>\n",
       "    </tr>\n",
       "    <tr>\n",
       "      <td>246</td>\n",
       "      <td>12.412</td>\n",
       "      <td>52.952</td>\n",
       "    </tr>\n",
       "    <tr>\n",
       "      <td>247</td>\n",
       "      <td>12.462</td>\n",
       "      <td>44.745</td>\n",
       "    </tr>\n",
       "    <tr>\n",
       "      <td>248</td>\n",
       "      <td>12.487</td>\n",
       "      <td>44.735</td>\n",
       "    </tr>\n",
       "    <tr>\n",
       "      <td>249</td>\n",
       "      <td>12.538</td>\n",
       "      <td>44.801</td>\n",
       "    </tr>\n",
       "    <tr>\n",
       "      <td>250</td>\n",
       "      <td>12.563</td>\n",
       "      <td>42.336</td>\n",
       "    </tr>\n",
       "    <tr>\n",
       "      <td>251</td>\n",
       "      <td>12.588</td>\n",
       "      <td>54.079</td>\n",
       "    </tr>\n",
       "    <tr>\n",
       "      <td>252</td>\n",
       "      <td>12.613</td>\n",
       "      <td>51.471</td>\n",
       "    </tr>\n",
       "    <tr>\n",
       "      <td>253</td>\n",
       "      <td>12.663</td>\n",
       "      <td>44.880</td>\n",
       "    </tr>\n",
       "    <tr>\n",
       "      <td>254</td>\n",
       "      <td>12.713</td>\n",
       "      <td>51.149</td>\n",
       "    </tr>\n",
       "  </tbody>\n",
       "</table>\n",
       "</div>"
      ],
      "text/plain": [
       "      speed   power\n",
       "245  12.387  37.159\n",
       "246  12.412  52.952\n",
       "247  12.462  44.745\n",
       "248  12.487  44.735\n",
       "249  12.538  44.801\n",
       "250  12.563  42.336\n",
       "251  12.588  54.079\n",
       "252  12.613  51.471\n",
       "253  12.663  44.880\n",
       "254  12.713  51.149"
      ]
     },
     "execution_count": 7,
     "metadata": {},
     "output_type": "execute_result"
    }
   ],
   "source": [
    "# Lets take a look at the middle of the dataset\n",
    "df.iloc[245:255,:]"
   ]
  },
  {
   "cell_type": "code",
   "execution_count": 9,
   "metadata": {},
   "outputs": [
    {
     "data": {
      "text/html": [
       "<div>\n",
       "<style scoped>\n",
       "    .dataframe tbody tr th:only-of-type {\n",
       "        vertical-align: middle;\n",
       "    }\n",
       "\n",
       "    .dataframe tbody tr th {\n",
       "        vertical-align: top;\n",
       "    }\n",
       "\n",
       "    .dataframe thead th {\n",
       "        text-align: right;\n",
       "    }\n",
       "</style>\n",
       "<table border=\"1\" class=\"dataframe\">\n",
       "  <thead>\n",
       "    <tr style=\"text-align: right;\">\n",
       "      <th></th>\n",
       "      <th>speed</th>\n",
       "      <th>power</th>\n",
       "    </tr>\n",
       "  </thead>\n",
       "  <tbody>\n",
       "    <tr>\n",
       "      <td>0</td>\n",
       "      <td>0.000</td>\n",
       "      <td>0.000</td>\n",
       "    </tr>\n",
       "    <tr>\n",
       "      <td>1</td>\n",
       "      <td>0.125</td>\n",
       "      <td>0.000</td>\n",
       "    </tr>\n",
       "    <tr>\n",
       "      <td>2</td>\n",
       "      <td>0.150</td>\n",
       "      <td>0.000</td>\n",
       "    </tr>\n",
       "    <tr>\n",
       "      <td>3</td>\n",
       "      <td>0.225</td>\n",
       "      <td>0.000</td>\n",
       "    </tr>\n",
       "    <tr>\n",
       "      <td>4</td>\n",
       "      <td>0.275</td>\n",
       "      <td>0.000</td>\n",
       "    </tr>\n",
       "    <tr>\n",
       "      <td>5</td>\n",
       "      <td>0.325</td>\n",
       "      <td>4.331</td>\n",
       "    </tr>\n",
       "    <tr>\n",
       "      <td>6</td>\n",
       "      <td>0.400</td>\n",
       "      <td>5.186</td>\n",
       "    </tr>\n",
       "    <tr>\n",
       "      <td>7</td>\n",
       "      <td>0.450</td>\n",
       "      <td>3.826</td>\n",
       "    </tr>\n",
       "    <tr>\n",
       "      <td>8</td>\n",
       "      <td>0.501</td>\n",
       "      <td>1.048</td>\n",
       "    </tr>\n",
       "    <tr>\n",
       "      <td>9</td>\n",
       "      <td>0.526</td>\n",
       "      <td>5.553</td>\n",
       "    </tr>\n",
       "    <tr>\n",
       "      <td>10</td>\n",
       "      <td>0.551</td>\n",
       "      <td>6.498</td>\n",
       "    </tr>\n",
       "    <tr>\n",
       "      <td>11</td>\n",
       "      <td>0.576</td>\n",
       "      <td>5.241</td>\n",
       "    </tr>\n",
       "    <tr>\n",
       "      <td>12</td>\n",
       "      <td>0.626</td>\n",
       "      <td>4.220</td>\n",
       "    </tr>\n",
       "    <tr>\n",
       "      <td>13</td>\n",
       "      <td>0.676</td>\n",
       "      <td>7.974</td>\n",
       "    </tr>\n",
       "    <tr>\n",
       "      <td>14</td>\n",
       "      <td>0.701</td>\n",
       "      <td>9.746</td>\n",
       "    </tr>\n",
       "    <tr>\n",
       "      <td>485</td>\n",
       "      <td>24.249</td>\n",
       "      <td>103.700</td>\n",
       "    </tr>\n",
       "    <tr>\n",
       "      <td>486</td>\n",
       "      <td>24.299</td>\n",
       "      <td>93.694</td>\n",
       "    </tr>\n",
       "    <tr>\n",
       "      <td>487</td>\n",
       "      <td>24.349</td>\n",
       "      <td>93.078</td>\n",
       "    </tr>\n",
       "    <tr>\n",
       "      <td>488</td>\n",
       "      <td>24.374</td>\n",
       "      <td>98.223</td>\n",
       "    </tr>\n",
       "    <tr>\n",
       "      <td>489</td>\n",
       "      <td>24.399</td>\n",
       "      <td>95.117</td>\n",
       "    </tr>\n",
       "    <tr>\n",
       "      <td>490</td>\n",
       "      <td>24.499</td>\n",
       "      <td>0.000</td>\n",
       "    </tr>\n",
       "    <tr>\n",
       "      <td>491</td>\n",
       "      <td>24.525</td>\n",
       "      <td>0.000</td>\n",
       "    </tr>\n",
       "    <tr>\n",
       "      <td>492</td>\n",
       "      <td>24.575</td>\n",
       "      <td>0.000</td>\n",
       "    </tr>\n",
       "    <tr>\n",
       "      <td>493</td>\n",
       "      <td>24.650</td>\n",
       "      <td>0.000</td>\n",
       "    </tr>\n",
       "    <tr>\n",
       "      <td>494</td>\n",
       "      <td>24.750</td>\n",
       "      <td>0.000</td>\n",
       "    </tr>\n",
       "    <tr>\n",
       "      <td>495</td>\n",
       "      <td>24.775</td>\n",
       "      <td>0.000</td>\n",
       "    </tr>\n",
       "    <tr>\n",
       "      <td>496</td>\n",
       "      <td>24.850</td>\n",
       "      <td>0.000</td>\n",
       "    </tr>\n",
       "    <tr>\n",
       "      <td>497</td>\n",
       "      <td>24.875</td>\n",
       "      <td>0.000</td>\n",
       "    </tr>\n",
       "    <tr>\n",
       "      <td>498</td>\n",
       "      <td>24.950</td>\n",
       "      <td>0.000</td>\n",
       "    </tr>\n",
       "    <tr>\n",
       "      <td>499</td>\n",
       "      <td>25.000</td>\n",
       "      <td>0.000</td>\n",
       "    </tr>\n",
       "  </tbody>\n",
       "</table>\n",
       "</div>"
      ],
      "text/plain": [
       "      speed    power\n",
       "0     0.000    0.000\n",
       "1     0.125    0.000\n",
       "2     0.150    0.000\n",
       "3     0.225    0.000\n",
       "4     0.275    0.000\n",
       "5     0.325    4.331\n",
       "6     0.400    5.186\n",
       "7     0.450    3.826\n",
       "8     0.501    1.048\n",
       "9     0.526    5.553\n",
       "10    0.551    6.498\n",
       "11    0.576    5.241\n",
       "12    0.626    4.220\n",
       "13    0.676    7.974\n",
       "14    0.701    9.746\n",
       "485  24.249  103.700\n",
       "486  24.299   93.694\n",
       "487  24.349   93.078\n",
       "488  24.374   98.223\n",
       "489  24.399   95.117\n",
       "490  24.499    0.000\n",
       "491  24.525    0.000\n",
       "492  24.575    0.000\n",
       "493  24.650    0.000\n",
       "494  24.750    0.000\n",
       "495  24.775    0.000\n",
       "496  24.850    0.000\n",
       "497  24.875    0.000\n",
       "498  24.950    0.000\n",
       "499  25.000    0.000"
      ]
     },
     "execution_count": 9,
     "metadata": {},
     "output_type": "execute_result"
    }
   ],
   "source": [
    "# Lets increase the range of head() & tail() to when there is an increase and decrease in power output\n",
    "ends(df,15)"
   ]
  },
  {
   "cell_type": "markdown",
   "metadata": {},
   "source": [
    "### <u>Plotting<u>\n"
   ]
  },
  {
   "cell_type": "code",
   "execution_count": 43,
   "metadata": {},
   "outputs": [
    {
     "data": {
      "text/plain": [
       "<seaborn.axisgrid.FacetGrid at 0x7fe28c0dd450>"
      ]
     },
     "execution_count": 43,
     "metadata": {},
     "output_type": "execute_result"
    },
    {
     "data": {
      "image/png": "[encoded data removed]",
      "text/plain": [
       "<Figure size 360x360 with 1 Axes>"
      ]
     },
     "metadata": {},
     "output_type": "display_data"
    }
   ],
   "source": [
    "# plot the data\n",
    "#sns.scatterplot(data=df)\n",
    "# x = the independent variable, y = dependent variable [] https://www.youtube.com/watch?v=zPG4NjIkCjc\n",
    "# x value is the input, y value is the output\n",
    "sns.relplot(x=\"speed\", y=\"power\", kind=\"line\", data=df)"
   ]
  },
  {
   "cell_type": "markdown",
   "metadata": {},
   "source": [
    "As we are dealing continous, numerical, bivariant data, a more appropriate plot to use is a scatterplot. [1][2]"
   ]
  },
  {
   "cell_type": "code",
   "execution_count": 44,
   "metadata": {},
   "outputs": [
    {
     "data": {
      "image/png": "[encoded data removed]",
      "text/plain": [
       "<Figure size 360x360 with 1 Axes>"
      ]
     },
     "metadata": {},
     "output_type": "display_data"
    }
   ],
   "source": [
    "# plot the data\n",
    "# [] https://www.youtube.com/watch?v=zPG4NjIkCjc\n",
    "sns.relplot(x=\"speed\", y=\"power\", data=df);"
   ]
  },
  {
   "cell_type": "markdown",
   "metadata": {},
   "source": [
    "After investigating the dataset we can concluded it contains two values; `Speed`, which refers to wind speed possible measured in knots and `Power`, the power output for the corresponding wind speed. The dataset contains a number of $0$ power values, meaning there are certain wind speeds that do not produce a power output. \n",
    "\n",
    "The $0$ power values at the low & high of the wind speed range can be attributed to the wind being too light to move the turbines and too strong to operates the turbine safely. The $0$ power values between the low & high ends of the wind speed range would require further investigation to determine the reasons behind them "
   ]
  },
  {
   "cell_type": "code",
   "execution_count": 64,
   "metadata": {
    "scrolled": false
   },
   "outputs": [
    {
     "data": {
      "text/plain": [
       "(451, 2)"
      ]
     },
     "execution_count": 64,
     "metadata": {},
     "output_type": "execute_result"
    }
   ],
   "source": [
    "# Lets look at the amount of power > 0\n",
    "df[df['power'] > 0].shape"
   ]
  },
  {
   "cell_type": "code",
   "execution_count": 11,
   "metadata": {},
   "outputs": [],
   "source": [
    "# Lets separate out the rows that have no power output\n",
    "# [] https://cmdlinetips.com/2018/02/how-to-subset-pandas-dataframe-based-on-values-of-a-column/#:~:text=One%20way%20to%20filter%20by,based%20on%20year's%20value%202002.\n",
    "noPowerProduction = df[df['power']==0]"
   ]
  },
  {
   "cell_type": "code",
   "execution_count": 12,
   "metadata": {},
   "outputs": [
    {
     "data": {
      "text/html": [
       "<div>\n",
       "<style scoped>\n",
       "    .dataframe tbody tr th:only-of-type {\n",
       "        vertical-align: middle;\n",
       "    }\n",
       "\n",
       "    .dataframe tbody tr th {\n",
       "        vertical-align: top;\n",
       "    }\n",
       "\n",
       "    .dataframe thead th {\n",
       "        text-align: right;\n",
       "    }\n",
       "</style>\n",
       "<table border=\"1\" class=\"dataframe\">\n",
       "  <thead>\n",
       "    <tr style=\"text-align: right;\">\n",
       "      <th></th>\n",
       "      <th>speed</th>\n",
       "      <th>power</th>\n",
       "    </tr>\n",
       "  </thead>\n",
       "  <tbody>\n",
       "    <tr>\n",
       "      <td>0</td>\n",
       "      <td>0.000</td>\n",
       "      <td>0.0</td>\n",
       "    </tr>\n",
       "    <tr>\n",
       "      <td>1</td>\n",
       "      <td>0.125</td>\n",
       "      <td>0.0</td>\n",
       "    </tr>\n",
       "    <tr>\n",
       "      <td>2</td>\n",
       "      <td>0.150</td>\n",
       "      <td>0.0</td>\n",
       "    </tr>\n",
       "    <tr>\n",
       "      <td>3</td>\n",
       "      <td>0.225</td>\n",
       "      <td>0.0</td>\n",
       "    </tr>\n",
       "    <tr>\n",
       "      <td>4</td>\n",
       "      <td>0.275</td>\n",
       "      <td>0.0</td>\n",
       "    </tr>\n",
       "    <tr>\n",
       "      <td>495</td>\n",
       "      <td>24.775</td>\n",
       "      <td>0.0</td>\n",
       "    </tr>\n",
       "    <tr>\n",
       "      <td>496</td>\n",
       "      <td>24.850</td>\n",
       "      <td>0.0</td>\n",
       "    </tr>\n",
       "    <tr>\n",
       "      <td>497</td>\n",
       "      <td>24.875</td>\n",
       "      <td>0.0</td>\n",
       "    </tr>\n",
       "    <tr>\n",
       "      <td>498</td>\n",
       "      <td>24.950</td>\n",
       "      <td>0.0</td>\n",
       "    </tr>\n",
       "    <tr>\n",
       "      <td>499</td>\n",
       "      <td>25.000</td>\n",
       "      <td>0.0</td>\n",
       "    </tr>\n",
       "  </tbody>\n",
       "</table>\n",
       "</div>"
      ],
      "text/plain": [
       "      speed  power\n",
       "0     0.000    0.0\n",
       "1     0.125    0.0\n",
       "2     0.150    0.0\n",
       "3     0.225    0.0\n",
       "4     0.275    0.0\n",
       "495  24.775    0.0\n",
       "496  24.850    0.0\n",
       "497  24.875    0.0\n",
       "498  24.950    0.0\n",
       "499  25.000    0.0"
      ]
     },
     "execution_count": 12,
     "metadata": {},
     "output_type": "execute_result"
    }
   ],
   "source": [
    "ends(noPowerProduction)"
   ]
  },
  {
   "cell_type": "code",
   "execution_count": 13,
   "metadata": {
    "scrolled": true
   },
   "outputs": [
    {
     "data": {
      "text/plain": [
       "(49, 2)"
      ]
     },
     "execution_count": 13,
     "metadata": {},
     "output_type": "execute_result"
    }
   ],
   "source": [
    "noPowerProduction.shape"
   ]
  },
  {
   "cell_type": "code",
   "execution_count": 14,
   "metadata": {},
   "outputs": [],
   "source": [
    "noSpeed = noPowerProduction['speed']\n",
    "noPower = noPowerProduction['power']"
   ]
  },
  {
   "cell_type": "code",
   "execution_count": 15,
   "metadata": {},
   "outputs": [],
   "source": [
    "speed = df['speed']\n",
    "power = df['power']"
   ]
  },
  {
   "cell_type": "code",
   "execution_count": 16,
   "metadata": {
    "scrolled": false
   },
   "outputs": [
    {
     "data": {
      "text/plain": [
       "<matplotlib.legend.Legend at 0x7ff785ba9550>"
      ]
     },
     "execution_count": 16,
     "metadata": {},
     "output_type": "execute_result"
    },
    {
     "data": {
      "image/png": "[encoded data removed]",
      "text/plain": [
       "<Figure size 432x288 with 1 Axes>"
      ]
     },
     "metadata": {
      "needs_background": "light"
     },
     "output_type": "display_data"
    }
   ],
   "source": [
    "# https://stackoverflow.com/questions/50120633/plotting-line-graph-with-highlighted-data-points/50120670\n",
    "# https://www.kite.com/python/answers/how-to-change-the-frequency-of-ticks-in-a-matplotlib-figure-in-python\n",
    "# https://realpython.com/ggplot-python/\n",
    "# https://matplotlib.org/3.1.1/gallery/style_sheets/ggplot.html\n",
    "plt.plot(speed, power, 'g.', label = 'Power Output')\n",
    "plt.plot(noSpeed, noPower, 'rv', label = 'No Power Output')\n",
    "plt.xlabel('Speed')\n",
    "plt.ylabel('Power')\n",
    "plt.xticks(np.arange(0,28,2))\n",
    "plt.yticks(np.arange(0,120,10))\n",
    "plt.legend()"
   ]
  },
  {
   "cell_type": "code",
   "execution_count": 52,
   "metadata": {},
   "outputs": [
    {
     "data": {
      "text/plain": [
       "<seaborn.axisgrid.FacetGrid at 0x7fe28c410190>"
      ]
     },
     "execution_count": 52,
     "metadata": {},
     "output_type": "execute_result"
    },
    {
     "data": {
      "image/png": "[encoded data removed]",
      "text/plain": [
       "<Figure size 360x360 with 1 Axes>"
      ]
     },
     "metadata": {},
     "output_type": "display_data"
    }
   ],
   "source": [
    "sns.displot(df, x = \"power\", discrete=True, multiple=\"dodge\")"
   ]
  },
  {
   "cell_type": "markdown",
   "metadata": {},
   "source": [
    "## <u>Fitting The Line<u>\n",
    "    \n",
    " We shall try establish the coefficients and intercept and find the best fit line\n",
    " \n",
    " Whenever i try to run a plot for the second time it doesnt work "
   ]
  },
  {
   "cell_type": "code",
   "execution_count": 65,
   "metadata": {},
   "outputs": [],
   "source": [
    "X = df['speed']\n",
    "y = df['power']"
   ]
  },
  {
   "cell_type": "code",
   "execution_count": 66,
   "metadata": {},
   "outputs": [
    {
     "data": {
      "text/plain": [
       "array([  4.91759567, -13.89990263])"
      ]
     },
     "execution_count": 66,
     "metadata": {},
     "output_type": "execute_result"
    }
   ],
   "source": [
    "np.polyfit(X, y,1)"
   ]
  },
  {
   "cell_type": "code",
   "execution_count": 67,
   "metadata": {},
   "outputs": [],
   "source": [
    "m,c = np.polyfit(X, y ,1)"
   ]
  },
  {
   "cell_type": "code",
   "execution_count": 68,
   "metadata": {},
   "outputs": [
    {
     "data": {
      "text/plain": [
       "(4.9175956654046695, -13.899902630519595)"
      ]
     },
     "execution_count": 68,
     "metadata": {},
     "output_type": "execute_result"
    }
   ],
   "source": [
    "# The coefficients and intercept for the best line are m & c \n",
    "m,c "
   ]
  },
  {
   "cell_type": "code",
   "execution_count": 69,
   "metadata": {
    "scrolled": false
   },
   "outputs": [
    {
     "data": {
      "text/plain": [
       "<matplotlib.legend.Legend at 0x7ff789d3c950>"
      ]
     },
     "execution_count": 69,
     "metadata": {},
     "output_type": "execute_result"
    },
    {
     "data": {
      "image/png": "[encoded data removed]",
      "text/plain": [
       "<Figure size 432x288 with 1 Axes>"
      ]
     },
     "metadata": {
      "needs_background": "light"
     },
     "output_type": "display_data"
    }
   ],
   "source": [
    "# https://stackoverflow.com/questions/50120633/plotting-line-graph-with-highlighted-data-points/50120670\n",
    "# https://www.kite.com/python/answers/how-to-change-the-frequency-of-ticks-in-a-matplotlib-figure-in-python\n",
    "# https://realpython.com/ggplot-python/\n",
    "# https://matplotlib.org/3.1.1/gallery/style_sheets/ggplot.html\n",
    "x = plt.plot(X, y, 'g.', label = 'Power Output')\n",
    "y = plt.plot(noSpeed, noPower, 'rv', label = 'No Power Output')\n",
    "plt.plot(X,m * X + c, 'b-', label = 'Best Fit Line')\n",
    "plt.xlabel('Speed')\n",
    "plt.ylabel('Power')\n",
    "plt.xticks(np.arange(0,28,2))\n",
    "plt.yticks(np.arange(0,120,10))\n",
    "plt.title('Simple Linear Regression')\n",
    "plt.legend()"
   ]
  },
  {
   "cell_type": "code",
   "execution_count": 78,
   "metadata": {},
   "outputs": [],
   "source": [
    "X = df['speed']\n",
    "y = df['power']"
   ]
  },
  {
   "cell_type": "code",
   "execution_count": 79,
   "metadata": {},
   "outputs": [
    {
     "data": {
      "text/plain": [
       "array([ -0.07021949,   6.67418543, -21.22684391])"
      ]
     },
     "execution_count": 79,
     "metadata": {},
     "output_type": "execute_result"
    }
   ],
   "source": [
    "np.polyfit(X, y,2)"
   ]
  },
  {
   "cell_type": "code",
   "execution_count": 80,
   "metadata": {},
   "outputs": [],
   "source": [
    "m1,c1, b = np.polyfit(X, y,2)\n"
   ]
  },
  {
   "cell_type": "code",
   "execution_count": 56,
   "metadata": {
    "collapsed": true
   },
   "outputs": [
    {
     "data": {
      "text/plain": [
       "[<matplotlib.lines.Line2D at 0x7feaff2c0490>]"
      ]
     },
     "execution_count": 56,
     "metadata": {},
     "output_type": "execute_result"
    },
    {
     "data": {
      "image/png": "[encoded data removed]",
      "text/plain": [
       "<Figure size 1080x720 with 1 Axes>"
      ]
     },
     "metadata": {},
     "output_type": "display_data"
    }
   ],
   "source": [
    "plt.plot(X, m1 * X  * X + c1 * X + b, 'm-', label = '2nd Best Fit Line')"
   ]
  },
  {
   "cell_type": "code",
   "execution_count": 81,
   "metadata": {
    "scrolled": true
   },
   "outputs": [
    {
     "data": {
      "text/plain": [
       "<matplotlib.legend.Legend at 0x7ff78aafd3d0>"
      ]
     },
     "execution_count": 81,
     "metadata": {},
     "output_type": "execute_result"
    },
    {
     "data": {
      "image/png": "[encoded data removed]",
      "text/plain": [
       "<Figure size 432x288 with 1 Axes>"
      ]
     },
     "metadata": {
      "needs_background": "light"
     },
     "output_type": "display_data"
    }
   ],
   "source": [
    "x = plt.plot(X, y, 'g.', label = 'Power Output')\n",
    "y = plt.plot(noSpeed, noPower, 'rv', label = 'No Power Output')\n",
    "plt.plot(X,m * X + c, 'b-', label = 'Best Fit Line')\n",
    "plt.plot(X, m1 * X  * X + c1 * X + b, 'm-', label = 'Curved Line')\n",
    "plt.xlabel('Speed')\n",
    "plt.ylabel('Power')\n",
    "plt.xticks(np.arange(0,28,2))\n",
    "plt.yticks(np.arange(0,120,10))\n",
    "plt.title('Simple Linear Regression')\n",
    "plt.legend()"
   ]
  },
  {
   "cell_type": "code",
   "execution_count": 81,
   "metadata": {
    "scrolled": true
   },
   "outputs": [
    {
     "data": {
      "text/plain": [
       "<matplotlib.legend.Legend at 0x7ff78aafd3d0>"
      ]
     },
     "execution_count": 81,
     "metadata": {},
     "output_type": "execute_result"
    },
    {
     "data": {
      "image/png": "[encoded data removed]",
      "text/plain": [
       "<Figure size 432x288 with 1 Axes>"
      ]
     },
     "metadata": {
      "needs_background": "light"
     },
     "output_type": "display_data"
    }
   ],
   "source": [
    "x = plt.plot(X, y, 'g.', label = 'Power Output')\n",
    "y = plt.plot(noSpeed, noPower, 'rv', label = 'No Power Output')\n",
    "plt.plot(X,m * X + c, 'b-', label = 'Best Fit Line')\n",
    "plt.plot(X, m1 * X  * X + c1 * X + b, 'm-', label = 'Curved Line')\n",
    "plt.xlabel('Speed')\n",
    "plt.ylabel('Power')\n",
    "plt.xticks(np.arange(0,28,2))\n",
    "plt.yticks(np.arange(0,120,10))\n",
    "plt.title('Simple Linear Regression')\n",
    "plt.legend()"
   ]
  },
  {
   "cell_type": "code",
   "execution_count": 76,
   "metadata": {
    "collapsed": true
   },
   "outputs": [
    {
     "ename": "ValueError",
     "evalue": "x and y must have same first dimension, but have shapes (500,) and (1,)",
     "output_type": "error",
     "traceback": [
      "\u001b[0;31m---------------------------------------------------------------------------\u001b[0m",
      "\u001b[0;31mValueError\u001b[0m                                Traceback (most recent call last)",
      "\u001b[0;32m<ipython-input-76-32341b2c9eb9>\u001b[0m in \u001b[0;36m<module>\u001b[0;34m\u001b[0m\n\u001b[1;32m      3\u001b[0m \u001b[0;31m# https://realpython.com/ggplot-python/\u001b[0m\u001b[0;34m\u001b[0m\u001b[0;34m\u001b[0m\u001b[0;34m\u001b[0m\u001b[0m\n\u001b[1;32m      4\u001b[0m \u001b[0;31m# https://matplotlib.org/3.1.1/gallery/style_sheets/ggplot.html\u001b[0m\u001b[0;34m\u001b[0m\u001b[0;34m\u001b[0m\u001b[0;34m\u001b[0m\u001b[0m\n\u001b[0;32m----> 5\u001b[0;31m \u001b[0mx\u001b[0m \u001b[0;34m=\u001b[0m \u001b[0mplt\u001b[0m\u001b[0;34m.\u001b[0m\u001b[0mplot\u001b[0m\u001b[0;34m(\u001b[0m\u001b[0mX\u001b[0m\u001b[0;34m,\u001b[0m \u001b[0my\u001b[0m\u001b[0;34m,\u001b[0m \u001b[0;34m'g.'\u001b[0m\u001b[0;34m,\u001b[0m \u001b[0mlabel\u001b[0m \u001b[0;34m=\u001b[0m \u001b[0;34m'Power Output'\u001b[0m\u001b[0;34m)\u001b[0m\u001b[0;34m\u001b[0m\u001b[0;34m\u001b[0m\u001b[0m\n\u001b[0m\u001b[1;32m      6\u001b[0m \u001b[0my\u001b[0m \u001b[0;34m=\u001b[0m \u001b[0mplt\u001b[0m\u001b[0;34m.\u001b[0m\u001b[0mplot\u001b[0m\u001b[0;34m(\u001b[0m\u001b[0mnoSpeed\u001b[0m\u001b[0;34m,\u001b[0m \u001b[0mnoPower\u001b[0m\u001b[0;34m,\u001b[0m \u001b[0;34m'rv'\u001b[0m\u001b[0;34m,\u001b[0m \u001b[0mlabel\u001b[0m \u001b[0;34m=\u001b[0m \u001b[0;34m'No Power Output'\u001b[0m\u001b[0;34m)\u001b[0m\u001b[0;34m\u001b[0m\u001b[0;34m\u001b[0m\u001b[0m\n\u001b[1;32m      7\u001b[0m \u001b[0mplt\u001b[0m\u001b[0;34m.\u001b[0m\u001b[0mplot\u001b[0m\u001b[0;34m(\u001b[0m\u001b[0mX\u001b[0m\u001b[0;34m,\u001b[0m\u001b[0mm\u001b[0m \u001b[0;34m*\u001b[0m \u001b[0mX\u001b[0m \u001b[0;34m+\u001b[0m \u001b[0mc\u001b[0m\u001b[0;34m,\u001b[0m \u001b[0;34m'b-'\u001b[0m\u001b[0;34m,\u001b[0m \u001b[0mlabel\u001b[0m \u001b[0;34m=\u001b[0m \u001b[0;34m'Best Fit Line'\u001b[0m\u001b[0;34m)\u001b[0m\u001b[0;34m\u001b[0m\u001b[0;34m\u001b[0m\u001b[0m\n",
      "\u001b[0;32m~/opt/anaconda3/lib/python3.7/site-packages/matplotlib/pyplot.py\u001b[0m in \u001b[0;36mplot\u001b[0;34m(scalex, scaley, data, *args, **kwargs)\u001b[0m\n\u001b[1;32m   2793\u001b[0m     return gca().plot(\n\u001b[1;32m   2794\u001b[0m         *args, scalex=scalex, scaley=scaley, **({\"data\": data} if data\n\u001b[0;32m-> 2795\u001b[0;31m         is not None else {}), **kwargs)\n\u001b[0m\u001b[1;32m   2796\u001b[0m \u001b[0;34m\u001b[0m\u001b[0m\n\u001b[1;32m   2797\u001b[0m \u001b[0;34m\u001b[0m\u001b[0m\n",
      "\u001b[0;32m~/opt/anaconda3/lib/python3.7/site-packages/matplotlib/axes/_axes.py\u001b[0m in \u001b[0;36mplot\u001b[0;34m(self, scalex, scaley, data, *args, **kwargs)\u001b[0m\n\u001b[1;32m   1664\u001b[0m         \"\"\"\n\u001b[1;32m   1665\u001b[0m         \u001b[0mkwargs\u001b[0m \u001b[0;34m=\u001b[0m \u001b[0mcbook\u001b[0m\u001b[0;34m.\u001b[0m\u001b[0mnormalize_kwargs\u001b[0m\u001b[0;34m(\u001b[0m\u001b[0mkwargs\u001b[0m\u001b[0;34m,\u001b[0m \u001b[0mmlines\u001b[0m\u001b[0;34m.\u001b[0m\u001b[0mLine2D\u001b[0m\u001b[0;34m.\u001b[0m\u001b[0m_alias_map\u001b[0m\u001b[0;34m)\u001b[0m\u001b[0;34m\u001b[0m\u001b[0;34m\u001b[0m\u001b[0m\n\u001b[0;32m-> 1666\u001b[0;31m         \u001b[0mlines\u001b[0m \u001b[0;34m=\u001b[0m \u001b[0;34m[\u001b[0m\u001b[0;34m*\u001b[0m\u001b[0mself\u001b[0m\u001b[0;34m.\u001b[0m\u001b[0m_get_lines\u001b[0m\u001b[0;34m(\u001b[0m\u001b[0;34m*\u001b[0m\u001b[0margs\u001b[0m\u001b[0;34m,\u001b[0m \u001b[0mdata\u001b[0m\u001b[0;34m=\u001b[0m\u001b[0mdata\u001b[0m\u001b[0;34m,\u001b[0m \u001b[0;34m**\u001b[0m\u001b[0mkwargs\u001b[0m\u001b[0;34m)\u001b[0m\u001b[0;34m]\u001b[0m\u001b[0;34m\u001b[0m\u001b[0;34m\u001b[0m\u001b[0m\n\u001b[0m\u001b[1;32m   1667\u001b[0m         \u001b[0;32mfor\u001b[0m \u001b[0mline\u001b[0m \u001b[0;32min\u001b[0m \u001b[0mlines\u001b[0m\u001b[0;34m:\u001b[0m\u001b[0;34m\u001b[0m\u001b[0;34m\u001b[0m\u001b[0m\n\u001b[1;32m   1668\u001b[0m             \u001b[0mself\u001b[0m\u001b[0;34m.\u001b[0m\u001b[0madd_line\u001b[0m\u001b[0;34m(\u001b[0m\u001b[0mline\u001b[0m\u001b[0;34m)\u001b[0m\u001b[0;34m\u001b[0m\u001b[0;34m\u001b[0m\u001b[0m\n",
      "\u001b[0;32m~/opt/anaconda3/lib/python3.7/site-packages/matplotlib/axes/_base.py\u001b[0m in \u001b[0;36m__call__\u001b[0;34m(self, *args, **kwargs)\u001b[0m\n\u001b[1;32m    223\u001b[0m                 \u001b[0mthis\u001b[0m \u001b[0;34m+=\u001b[0m \u001b[0margs\u001b[0m\u001b[0;34m[\u001b[0m\u001b[0;36m0\u001b[0m\u001b[0;34m]\u001b[0m\u001b[0;34m,\u001b[0m\u001b[0;34m\u001b[0m\u001b[0;34m\u001b[0m\u001b[0m\n\u001b[1;32m    224\u001b[0m                 \u001b[0margs\u001b[0m \u001b[0;34m=\u001b[0m \u001b[0margs\u001b[0m\u001b[0;34m[\u001b[0m\u001b[0;36m1\u001b[0m\u001b[0;34m:\u001b[0m\u001b[0;34m]\u001b[0m\u001b[0;34m\u001b[0m\u001b[0;34m\u001b[0m\u001b[0m\n\u001b[0;32m--> 225\u001b[0;31m             \u001b[0;32myield\u001b[0m \u001b[0;32mfrom\u001b[0m \u001b[0mself\u001b[0m\u001b[0;34m.\u001b[0m\u001b[0m_plot_args\u001b[0m\u001b[0;34m(\u001b[0m\u001b[0mthis\u001b[0m\u001b[0;34m,\u001b[0m \u001b[0mkwargs\u001b[0m\u001b[0;34m)\u001b[0m\u001b[0;34m\u001b[0m\u001b[0;34m\u001b[0m\u001b[0m\n\u001b[0m\u001b[1;32m    226\u001b[0m \u001b[0;34m\u001b[0m\u001b[0m\n\u001b[1;32m    227\u001b[0m     \u001b[0;32mdef\u001b[0m \u001b[0mget_next_color\u001b[0m\u001b[0;34m(\u001b[0m\u001b[0mself\u001b[0m\u001b[0;34m)\u001b[0m\u001b[0;34m:\u001b[0m\u001b[0;34m\u001b[0m\u001b[0;34m\u001b[0m\u001b[0m\n",
      "\u001b[0;32m~/opt/anaconda3/lib/python3.7/site-packages/matplotlib/axes/_base.py\u001b[0m in \u001b[0;36m_plot_args\u001b[0;34m(self, tup, kwargs)\u001b[0m\n\u001b[1;32m    389\u001b[0m             \u001b[0mx\u001b[0m\u001b[0;34m,\u001b[0m \u001b[0my\u001b[0m \u001b[0;34m=\u001b[0m \u001b[0mindex_of\u001b[0m\u001b[0;34m(\u001b[0m\u001b[0mtup\u001b[0m\u001b[0;34m[\u001b[0m\u001b[0;34m-\u001b[0m\u001b[0;36m1\u001b[0m\u001b[0;34m]\u001b[0m\u001b[0;34m)\u001b[0m\u001b[0;34m\u001b[0m\u001b[0;34m\u001b[0m\u001b[0m\n\u001b[1;32m    390\u001b[0m \u001b[0;34m\u001b[0m\u001b[0m\n\u001b[0;32m--> 391\u001b[0;31m         \u001b[0mx\u001b[0m\u001b[0;34m,\u001b[0m \u001b[0my\u001b[0m \u001b[0;34m=\u001b[0m \u001b[0mself\u001b[0m\u001b[0;34m.\u001b[0m\u001b[0m_xy_from_xy\u001b[0m\u001b[0;34m(\u001b[0m\u001b[0mx\u001b[0m\u001b[0;34m,\u001b[0m \u001b[0my\u001b[0m\u001b[0;34m)\u001b[0m\u001b[0;34m\u001b[0m\u001b[0;34m\u001b[0m\u001b[0m\n\u001b[0m\u001b[1;32m    392\u001b[0m \u001b[0;34m\u001b[0m\u001b[0m\n\u001b[1;32m    393\u001b[0m         \u001b[0;32mif\u001b[0m \u001b[0mself\u001b[0m\u001b[0;34m.\u001b[0m\u001b[0mcommand\u001b[0m \u001b[0;34m==\u001b[0m \u001b[0;34m'plot'\u001b[0m\u001b[0;34m:\u001b[0m\u001b[0;34m\u001b[0m\u001b[0;34m\u001b[0m\u001b[0m\n",
      "\u001b[0;32m~/opt/anaconda3/lib/python3.7/site-packages/matplotlib/axes/_base.py\u001b[0m in \u001b[0;36m_xy_from_xy\u001b[0;34m(self, x, y)\u001b[0m\n\u001b[1;32m    268\u001b[0m         \u001b[0;32mif\u001b[0m \u001b[0mx\u001b[0m\u001b[0;34m.\u001b[0m\u001b[0mshape\u001b[0m\u001b[0;34m[\u001b[0m\u001b[0;36m0\u001b[0m\u001b[0;34m]\u001b[0m \u001b[0;34m!=\u001b[0m \u001b[0my\u001b[0m\u001b[0;34m.\u001b[0m\u001b[0mshape\u001b[0m\u001b[0;34m[\u001b[0m\u001b[0;36m0\u001b[0m\u001b[0;34m]\u001b[0m\u001b[0;34m:\u001b[0m\u001b[0;34m\u001b[0m\u001b[0;34m\u001b[0m\u001b[0m\n\u001b[1;32m    269\u001b[0m             raise ValueError(\"x and y must have same first dimension, but \"\n\u001b[0;32m--> 270\u001b[0;31m                              \"have shapes {} and {}\".format(x.shape, y.shape))\n\u001b[0m\u001b[1;32m    271\u001b[0m         \u001b[0;32mif\u001b[0m \u001b[0mx\u001b[0m\u001b[0;34m.\u001b[0m\u001b[0mndim\u001b[0m \u001b[0;34m>\u001b[0m \u001b[0;36m2\u001b[0m \u001b[0;32mor\u001b[0m \u001b[0my\u001b[0m\u001b[0;34m.\u001b[0m\u001b[0mndim\u001b[0m \u001b[0;34m>\u001b[0m \u001b[0;36m2\u001b[0m\u001b[0;34m:\u001b[0m\u001b[0;34m\u001b[0m\u001b[0;34m\u001b[0m\u001b[0m\n\u001b[1;32m    272\u001b[0m             raise ValueError(\"x and y can be no greater than 2-D, but have \"\n",
      "\u001b[0;31mValueError\u001b[0m: x and y must have same first dimension, but have shapes (500,) and (1,)"
     ]
    },
    {
     "data": {
      "image/png": "[encoded data removed]",
      "text/plain": [
       "<Figure size 432x288 with 1 Axes>"
      ]
     },
     "metadata": {
      "needs_background": "light"
     },
     "output_type": "display_data"
    }
   ],
   "source": [
    "# https://stackoverflow.com/questions/50120633/plotting-line-graph-with-highlighted-data-points/50120670\n",
    "# https://www.kite.com/python/answers/how-to-change-the-frequency-of-ticks-in-a-matplotlib-figure-in-python\n",
    "# https://realpython.com/ggplot-python/\n",
    "# https://matplotlib.org/3.1.1/gallery/style_sheets/ggplot.html\n",
    "x = plt.plot(X, y, 'g.', label = 'Power Output')\n",
    "y = plt.plot(noSpeed, noPower, 'rv', label = 'No Power Output')\n",
    "plt.plot(X,m * X + c, 'b-', label = 'Best Fit Line')\n",
    "plt.plot(X, m1 * X  * X + c1 * X + b, 'm-', label = '2nd Best Fit Line')\n",
    "plt.xlabel('Speed')\n",
    "plt.ylabel('Power')\n",
    "plt.xticks(np.arange(0,28,2))\n",
    "plt.yticks(np.arange(0,120,10))\n",
    "plt.legend()"
   ]
  },
  {
   "cell_type": "markdown",
   "metadata": {},
   "source": [
    "## Preprocessing\n"
   ]
  },
  {
   "cell_type": "markdown",
   "metadata": {},
   "source": [
    "Our dataset contains a number of oulier `0` values that will impact the accuracy of our prediction. We will need to remove that before proceeding."
   ]
  },
  {
   "cell_type": "code",
   "execution_count": 88,
   "metadata": {},
   "outputs": [],
   "source": [
    "# Lets remove all the power values from our dataset\n",
    "df_mod = df[df['power'] > 0]"
   ]
  },
  {
   "cell_type": "code",
   "execution_count": 89,
   "metadata": {
    "scrolled": true
   },
   "outputs": [
    {
     "data": {
      "text/html": [
       "<div>\n",
       "<style scoped>\n",
       "    .dataframe tbody tr th:only-of-type {\n",
       "        vertical-align: middle;\n",
       "    }\n",
       "\n",
       "    .dataframe tbody tr th {\n",
       "        vertical-align: top;\n",
       "    }\n",
       "\n",
       "    .dataframe thead th {\n",
       "        text-align: right;\n",
       "    }\n",
       "</style>\n",
       "<table border=\"1\" class=\"dataframe\">\n",
       "  <thead>\n",
       "    <tr style=\"text-align: right;\">\n",
       "      <th></th>\n",
       "      <th>speed</th>\n",
       "      <th>power</th>\n",
       "    </tr>\n",
       "  </thead>\n",
       "  <tbody>\n",
       "    <tr>\n",
       "      <td>5</td>\n",
       "      <td>0.325</td>\n",
       "      <td>4.331</td>\n",
       "    </tr>\n",
       "    <tr>\n",
       "      <td>6</td>\n",
       "      <td>0.400</td>\n",
       "      <td>5.186</td>\n",
       "    </tr>\n",
       "    <tr>\n",
       "      <td>7</td>\n",
       "      <td>0.450</td>\n",
       "      <td>3.826</td>\n",
       "    </tr>\n",
       "    <tr>\n",
       "      <td>8</td>\n",
       "      <td>0.501</td>\n",
       "      <td>1.048</td>\n",
       "    </tr>\n",
       "    <tr>\n",
       "      <td>9</td>\n",
       "      <td>0.526</td>\n",
       "      <td>5.553</td>\n",
       "    </tr>\n",
       "    <tr>\n",
       "      <td>485</td>\n",
       "      <td>24.249</td>\n",
       "      <td>103.700</td>\n",
       "    </tr>\n",
       "    <tr>\n",
       "      <td>486</td>\n",
       "      <td>24.299</td>\n",
       "      <td>93.694</td>\n",
       "    </tr>\n",
       "    <tr>\n",
       "      <td>487</td>\n",
       "      <td>24.349</td>\n",
       "      <td>93.078</td>\n",
       "    </tr>\n",
       "    <tr>\n",
       "      <td>488</td>\n",
       "      <td>24.374</td>\n",
       "      <td>98.223</td>\n",
       "    </tr>\n",
       "    <tr>\n",
       "      <td>489</td>\n",
       "      <td>24.399</td>\n",
       "      <td>95.117</td>\n",
       "    </tr>\n",
       "  </tbody>\n",
       "</table>\n",
       "</div>"
      ],
      "text/plain": [
       "      speed    power\n",
       "5     0.325    4.331\n",
       "6     0.400    5.186\n",
       "7     0.450    3.826\n",
       "8     0.501    1.048\n",
       "9     0.526    5.553\n",
       "485  24.249  103.700\n",
       "486  24.299   93.694\n",
       "487  24.349   93.078\n",
       "488  24.374   98.223\n",
       "489  24.399   95.117"
      ]
     },
     "execution_count": 89,
     "metadata": {},
     "output_type": "execute_result"
    }
   ],
   "source": [
    "ends(df_mod)"
   ]
  },
  {
   "cell_type": "code",
   "execution_count": 96,
   "metadata": {},
   "outputs": [],
   "source": [
    "X_mod = df_mod['speed']\n",
    "y_mod = df_mod['power']"
   ]
  },
  {
   "cell_type": "code",
   "execution_count": null,
   "metadata": {},
   "outputs": [],
   "source": []
  },
  {
   "cell_type": "code",
   "execution_count": 126,
   "metadata": {
    "scrolled": true
   },
   "outputs": [
    {
     "data": {
      "text/plain": [
       "array([  5.61882784, -19.83768545])"
      ]
     },
     "execution_count": 126,
     "metadata": {},
     "output_type": "execute_result"
    }
   ],
   "source": [
    "np.polyfit(X_mod, y_mod,1)"
   ]
  },
  {
   "cell_type": "code",
   "execution_count": 97,
   "metadata": {
    "scrolled": true
   },
   "outputs": [
    {
     "data": {
      "text/plain": [
       "array([  0.02376658,   5.01866076, -17.1603058 ])"
      ]
     },
     "execution_count": 97,
     "metadata": {},
     "output_type": "execute_result"
    }
   ],
   "source": [
    "np.polyfit(X_mod, y_mod,2)"
   ]
  },
  {
   "cell_type": "code",
   "execution_count": 101,
   "metadata": {},
   "outputs": [],
   "source": [
    "m_mod, c_mod = np.polyfit(X_mod, y_mod, 1)\n",
    "m_mod_2, c_mod_2, b_mod = np.polyfit(X_mod, y_mod, 2)\n"
   ]
  },
  {
   "cell_type": "code",
   "execution_count": 102,
   "metadata": {
    "scrolled": true
   },
   "outputs": [
    {
     "data": {
      "text/plain": [
       "<matplotlib.legend.Legend at 0x7ff78aee37d0>"
      ]
     },
     "execution_count": 102,
     "metadata": {},
     "output_type": "execute_result"
    },
    {
     "data": {
      "image/png": "[encoded data removed]",
      "text/plain": [
       "<Figure size 432x288 with 1 Axes>"
      ]
     },
     "metadata": {
      "needs_background": "light"
     },
     "output_type": "display_data"
    }
   ],
   "source": [
    "plt.plot(X_mod, y_mod, 'g.', label = 'Power Output')\n",
    "plt.plot(X_mod,m_mod * X_mod + c_mod, 'r-', label = 'Best Fit Line')\n",
    "plt.plot(X_mod, m_mod_2 * X_mod  * X_mod + c_mod_2 * X_mod + b_mod, 'b-', label = 'Curved Line')\n",
    "plt.xlabel('Speed')\n",
    "plt.ylabel('Power')\n",
    "plt.xticks(np.arange(0,28,2))\n",
    "plt.yticks(np.arange(0,120,10))\n",
    "plt.title('Processed Dataset')\n",
    "plt.legend()"
   ]
  },
  {
   "cell_type": "markdown",
   "metadata": {},
   "source": [
    "### Predicting \n",
    "\n",
    "use KFold"
   ]
  },
  {
   "cell_type": "code",
   "execution_count": 103,
   "metadata": {},
   "outputs": [],
   "source": [
    "# https://stackoverflow.com/questions/49514684/python-sklearn-fit-array-error/49517796\n",
    "# https://pandas.pydata.org/pandas-docs/version/0.22.0/generated/pandas.Series.reshape.html\n",
    "X = X_mod.values.reshape(-1, 1)\n",
    "y = y_mod"
   ]
  },
  {
   "cell_type": "code",
   "execution_count": 10,
   "metadata": {},
   "outputs": [],
   "source": [
    "#import sklearn.model_selection as mod\n",
    "#speed_train, speed_test, power_train, power_test  = mod.train_test_split(Speed, Power, test_size=0.2, random_state = 0)"
   ]
  },
  {
   "cell_type": "code",
   "execution_count": 104,
   "metadata": {},
   "outputs": [],
   "source": [
    "import sklearn.model_selection as mod\n",
    "X_train, X_test, y_train, y_test  = mod.train_test_split(X, y, test_size=0.33)"
   ]
  },
  {
   "cell_type": "code",
   "execution_count": 106,
   "metadata": {},
   "outputs": [
    {
     "name": "stdout",
     "output_type": "stream",
     "text": [
      "(302, 1) (302,)\n"
     ]
    }
   ],
   "source": [
    "print(X_train.shape, y_train.shape)"
   ]
  },
  {
   "cell_type": "code",
   "execution_count": 107,
   "metadata": {},
   "outputs": [],
   "source": [
    "# https://scikit-learn.org/stable/modules/linear_model.html\n",
    "import sklearn.linear_model as lin\n",
    "reg = lin.LinearRegression()"
   ]
  },
  {
   "cell_type": "code",
   "execution_count": 108,
   "metadata": {},
   "outputs": [
    {
     "data": {
      "text/plain": [
       "LinearRegression(copy_X=True, fit_intercept=True, n_jobs=None, normalize=False)"
      ]
     },
     "execution_count": 108,
     "metadata": {},
     "output_type": "execute_result"
    }
   ],
   "source": [
    "reg.fit(X_train, y_train)"
   ]
  },
  {
   "cell_type": "code",
   "execution_count": 110,
   "metadata": {},
   "outputs": [],
   "source": [
    "yhat = reg.predict(X_test)"
   ]
  },
  {
   "cell_type": "markdown",
   "metadata": {},
   "source": [
    "### Evaluate"
   ]
  },
  {
   "cell_type": "code",
   "execution_count": 136,
   "metadata": {
    "scrolled": true
   },
   "outputs": [
    {
     "data": {
      "text/plain": [
       "439    False\n",
       "447    False\n",
       "64     False\n",
       "166    False\n",
       "338    False\n",
       "       ...  \n",
       "314    False\n",
       "359    False\n",
       "307    False\n",
       "148    False\n",
       "392    False\n",
       "Name: power, Length: 149, dtype: bool"
      ]
     },
     "execution_count": 136,
     "metadata": {},
     "output_type": "execute_result"
    }
   ],
   "source": [
    "yhat == y_test"
   ]
  },
  {
   "cell_type": "code",
   "execution_count": 137,
   "metadata": {},
   "outputs": [
    {
     "data": {
      "text/plain": [
       "0"
      ]
     },
     "execution_count": 137,
     "metadata": {},
     "output_type": "execute_result"
    }
   ],
   "source": [
    "(yhat == y_test).sum()"
   ]
  },
  {
   "cell_type": "code",
   "execution_count": 138,
   "metadata": {},
   "outputs": [
    {
     "data": {
      "text/plain": [
       "array([[105.80375018],\n",
       "       [ -1.18223376],\n",
       "       [ 25.49553402],\n",
       "       [ 75.61944091],\n",
       "       [ 68.88127075],\n",
       "       [ 87.13211798],\n",
       "       [ 77.72336581],\n",
       "       [111.2795654 ],\n",
       "       [ 13.14128698]])"
      ]
     },
     "execution_count": 138,
     "metadata": {},
     "output_type": "execute_result"
    }
   ],
   "source": [
    "yhat.reshape(-1,1)[1:10]"
   ]
  },
  {
   "cell_type": "code",
   "execution_count": 139,
   "metadata": {},
   "outputs": [
    {
     "data": {
      "text/plain": [
       "array([[109.932],\n",
       "       [  6.819],\n",
       "       [  7.83 ],\n",
       "       [ 91.27 ],\n",
       "       [ 78.991],\n",
       "       [103.387],\n",
       "       [ 91.125],\n",
       "       [ 94.867],\n",
       "       [  2.762]])"
      ]
     },
     "execution_count": 139,
     "metadata": {},
     "output_type": "execute_result"
    }
   ],
   "source": [
    " y_test.values.reshape(-1,1)[1:10]"
   ]
  },
  {
   "cell_type": "code",
   "execution_count": 140,
   "metadata": {},
   "outputs": [
    {
     "name": "stdout",
     "output_type": "stream",
     "text": [
      "[5.61046641]\n",
      "-20.41491260403371\n"
     ]
    }
   ],
   "source": [
    "print(reg.coef_)\n",
    "print(reg.intercept_)"
   ]
  },
  {
   "cell_type": "code",
   "execution_count": 145,
   "metadata": {
    "scrolled": true
   },
   "outputs": [
    {
     "data": {
      "text/plain": [
       "0.8885213762622365"
      ]
     },
     "execution_count": 145,
     "metadata": {},
     "output_type": "execute_result"
    }
   ],
   "source": [
    "# https://scikit-learn.org/stable/modules/generated/sklearn.metrics.r2_score.html?highlight=r2_score#sklearn.metrics.r2_score\n",
    "import sklearn.metrics as met\n",
    "score = met.r2_score\n",
    "score(y_test,yhat)"
   ]
  },
  {
   "cell_type": "markdown",
   "metadata": {},
   "source": [
    "### <u>Polynomial Regression<u>"
   ]
  },
  {
   "cell_type": "markdown",
   "metadata": {},
   "source": [
    "Polynomial regression is another form of regression analysis in which the relationship between the independent `X` and the dependent `y` is modelled as an nth degree polynomial in x. Polynomial regression fits a nonlinear relationship between the value of `X` and the corresponding conditional mean of `y`, denoted `E(y |x)`. Although polynomial regression fits a nonlinear model to the data, as a statistical estimation problem it is linear, in the sense that the regression function E(y | x) is linear in the unknown parameters that are estimated from the data. For this reason, polynomial regression is considered to be a special case of multiple linear regression.\n",
    "\n",
    "Linear regression and polynomial regression are essentially the same thing. Polynomial regression is multiple iterations of simple linear regression, a simple linear regression is actually a first order polynomial. The coefficients are all linear  \n",
    "\n",
    "[] https://en.wikipedia.org/wiki/Polynomial_regression\n",
    "[] https://www.youtube.com/watch?v=QptI-vDle8Y"
   ]
  },
  {
   "cell_type": "code",
   "execution_count": 153,
   "metadata": {},
   "outputs": [],
   "source": [
    "# https://towardsdatascience.com/polynomial-regression-with-scikit-learn-what-you-should-know-bed9d3296f2\n",
    "X_seq = (np.linspace(X.min(),X.max(),300)).reshape(-1,1)"
   ]
  },
  {
   "cell_type": "code",
   "execution_count": 154,
   "metadata": {
    "scrolled": true
   },
   "outputs": [
    {
     "data": {
      "text/plain": [
       "Pipeline(memory=None,\n",
       "         steps=[('polynomialfeatures',\n",
       "                 PolynomialFeatures(degree=3, include_bias=True,\n",
       "                                    interaction_only=False, order='C')),\n",
       "                ('linearregression',\n",
       "                 LinearRegression(copy_X=True, fit_intercept=True, n_jobs=None,\n",
       "                                  normalize=False))],\n",
       "         verbose=False)"
      ]
     },
     "execution_count": 154,
     "metadata": {},
     "output_type": "execute_result"
    }
   ],
   "source": [
    "from sklearn.preprocessing import PolynomialFeatures\n",
    "from sklearn.pipeline import make_pipeline\n",
    "from sklearn.linear_model import LinearRegression\n",
    "degree=3\n",
    "polyreg=make_pipeline(PolynomialFeatures(degree),LinearRegression())\n",
    "polyreg.fit(X_mod.values.reshape(-1, 1),y_mod.values.reshape(-1, 1))\n",
    "# https://stackoverflow.com/questions/53723928/attributeerror-series-object-has-no-attribute-reshape"
   ]
  },
  {
   "cell_type": "code",
   "execution_count": 155,
   "metadata": {},
   "outputs": [],
   "source": [
    "X_train, X_test, y_train, y_test  = mod.train_test_split(X, y, test_size=0.33)"
   ]
  },
  {
   "cell_type": "code",
   "execution_count": 157,
   "metadata": {
    "scrolled": true
   },
   "outputs": [
    {
     "data": {
      "text/plain": [
       "Pipeline(memory=None,\n",
       "         steps=[('polynomialfeatures',\n",
       "                 PolynomialFeatures(degree=3, include_bias=True,\n",
       "                                    interaction_only=False, order='C')),\n",
       "                ('linearregression',\n",
       "                 LinearRegression(copy_X=True, fit_intercept=True, n_jobs=None,\n",
       "                                  normalize=False))],\n",
       "         verbose=False)"
      ]
     },
     "execution_count": 157,
     "metadata": {},
     "output_type": "execute_result"
    }
   ],
   "source": [
    "polyreg.fit(X_train, y_train)"
   ]
  },
  {
   "cell_type": "code",
   "execution_count": 158,
   "metadata": {
    "collapsed": true
   },
   "outputs": [
    {
     "data": {
      "text/plain": [
       "array([ 1.73129971e+01,  8.70108125e+00,  1.16331644e+01,  5.44273596e-01,\n",
       "        1.21019949e+01,  2.06965562e+00,  6.73716473e+01,  1.24427913e+01,\n",
       "        3.71460767e+01,  2.84874254e+01,  6.62005789e+00,  2.04060095e+00,\n",
       "       -5.05400518e-01,  3.62392697e+01,  4.38210361e+01, -2.09063637e+00,\n",
       "       -2.84382478e+00,  2.62829256e+00,  9.27220721e+01,  7.64280406e+01,\n",
       "        4.42852357e+01,  9.82064024e+01,  9.91418168e+01,  3.22097170e+01,\n",
       "       -1.59991623e+00,  6.90654297e+00,  1.02715270e+00,  9.24940928e+00,\n",
       "        7.24135256e+01,  4.26625158e+01,  7.34823738e+01,  9.05269899e+01,\n",
       "        7.46702099e+00,  8.00704038e+01,  1.01966061e+02,  1.02530680e+02,\n",
       "        9.85158740e+01,  1.03476017e+02,  4.47498403e+01,  9.59103659e+01,\n",
       "        5.33884643e+01,  2.76288268e+01, -3.26308772e+00, -2.20573062e+00,\n",
       "        1.00056538e+02,  9.14813095e+01,  1.65632462e+01,  9.83173959e+01,\n",
       "        6.78250644e+01,  4.89442922e+01,  4.80107573e+01,  5.73410983e+01,\n",
       "       -3.25601801e+00,  9.70431371e+01,  3.06598201e+01,  9.19354649e+01,\n",
       "        4.77774589e+01,  8.53931177e+01,  8.73482318e+01,  7.78634896e+01,\n",
       "        9.72764137e+01,  1.02570079e+02, -2.87834979e+00,  1.32926985e+00,\n",
       "        2.29016693e+00,  2.61415874e+01,  8.16353763e+01,  6.33216993e+01,\n",
       "        4.32509028e+00,  8.48462082e+01,  9.77526531e+01,  9.28499871e+01,\n",
       "       -3.27404621e+00,  7.41188600e+01, -8.63698926e-01, -2.02037262e+00,\n",
       "        6.72254819e+00,  8.24074223e+00,  1.00673531e+02,  4.94548162e-01,\n",
       "        1.02640804e+02,  2.17127314e+00,  2.26183485e+01,  9.69832180e+01,\n",
       "        9.95743252e+00,  9.85364225e+01,  4.12765874e+01, -2.23467331e+00,\n",
       "       -1.90610278e+00, -5.01783106e-04,  8.20210725e+01,  2.89190077e+01,\n",
       "       -1.04716273e+00,  2.67765269e+01,  8.46626401e+01,  6.47808552e+00,\n",
       "        7.28422469e+01, -2.76138952e+00,  9.42927639e+01,  5.26888016e+01,\n",
       "        1.03606141e+02, -1.27130184e+00,  1.03769169e+02,  9.55774369e+01,\n",
       "        1.03778227e+02,  9.45671756e+00,  1.01252958e+02, -2.80784312e+00,\n",
       "       -3.08051828e+00,  1.00590275e+02,  2.04046972e+01,  3.26528964e+01,\n",
       "        1.56398332e+01,  7.34304131e-01, -2.33464099e+00,  1.01572861e+02,\n",
       "        8.04649119e+01,  1.01977019e+02,  9.88575027e+01,  1.02942470e+02,\n",
       "       -2.12990666e+00,  3.85129210e+01,  5.50835732e+00,  7.60054085e+01,\n",
       "        4.82440938e+01,  9.79814749e+01,  6.03505209e+01,  1.02181283e+02,\n",
       "        8.24044868e+01,  4.68447250e+01,  1.03585594e+02,  6.28668284e+01,\n",
       "        9.49067500e+01,  4.19689184e+01,  2.95691461e+01,  9.17910491e+01,\n",
       "        4.63786891e+01,  1.05213505e+01,  9.87713015e+01,  9.10108303e+01,\n",
       "        9.42074621e+01,  9.67990535e+01,  6.62552278e+01, -2.68589039e+00,\n",
       "        9.95713243e+01,  1.01841260e+02,  9.83856232e+01,  6.60311058e+01,\n",
       "        9.96691992e+01])"
      ]
     },
     "execution_count": 158,
     "metadata": {},
     "output_type": "execute_result"
    }
   ],
   "source": [
    "polyreg.predict(X_test)"
   ]
  },
  {
   "cell_type": "code",
   "execution_count": 159,
   "metadata": {},
   "outputs": [
    {
     "data": {
      "text/plain": [
       "0"
      ]
     },
     "execution_count": 159,
     "metadata": {},
     "output_type": "execute_result"
    }
   ],
   "source": [
    "(polyreg.predict(X_test) == y_test).sum()"
   ]
  },
  {
   "cell_type": "code",
   "execution_count": 160,
   "metadata": {
    "scrolled": false
   },
   "outputs": [
    {
     "data": {
      "text/plain": [
       "0.9772387010198472"
      ]
     },
     "execution_count": 160,
     "metadata": {},
     "output_type": "execute_result"
    }
   ],
   "source": [
    "score(y_test, polyreg.predict(X_test))"
   ]
  },
  {
   "cell_type": "code",
   "execution_count": 161,
   "metadata": {},
   "outputs": [
    {
     "data": {
      "text/plain": [
       "array([ 8.70108125, 11.63316439,  0.5442736 , 12.10199487,  2.06965562,\n",
       "       67.37164727, 12.44279133, 37.14607665, 28.48742537])"
      ]
     },
     "execution_count": 161,
     "metadata": {},
     "output_type": "execute_result"
    }
   ],
   "source": [
    "polyreg.predict(X_test)[1:10]"
   ]
  },
  {
   "cell_type": "code",
   "execution_count": 164,
   "metadata": {},
   "outputs": [
    {
     "data": {
      "text/plain": [
       "array([ 8.471,  6.498,  2.762, 11.749,  5.842, 71.763,  7.83 , 31.53 ,\n",
       "       30.341])"
      ]
     },
     "execution_count": 164,
     "metadata": {},
     "output_type": "execute_result"
    }
   ],
   "source": [
    "y_test.values[1:10]"
   ]
  },
  {
   "cell_type": "code",
   "execution_count": 165,
   "metadata": {},
   "outputs": [
    {
     "data": {
      "image/png": "[encoded data removed]",
      "text/plain": [
       "<Figure size 432x288 with 1 Axes>"
      ]
     },
     "metadata": {
      "needs_background": "light"
     },
     "output_type": "display_data"
    }
   ],
   "source": [
    "plt.figure()\n",
    "plt.scatter(X_mod,y_mod)\n",
    "plt.plot(X_seq,polyreg.predict(X_seq),color=\"black\")\n",
    "plt.title(\"Polynomial regression with degree \"+str(degree))\n",
    "plt.show()"
   ]
  },
  {
   "cell_type": "code",
   "execution_count": null,
   "metadata": {},
   "outputs": [],
   "source": []
  },
  {
   "cell_type": "code",
   "execution_count": null,
   "metadata": {},
   "outputs": [],
   "source": []
  },
  {
   "cell_type": "code",
   "execution_count": null,
   "metadata": {},
   "outputs": [],
   "source": []
  },
  {
   "cell_type": "code",
   "execution_count": null,
   "metadata": {},
   "outputs": [],
   "source": []
  },
  {
   "cell_type": "code",
   "execution_count": null,
   "metadata": {},
   "outputs": [],
   "source": []
  },
  {
   "cell_type": "code",
   "execution_count": null,
   "metadata": {},
   "outputs": [],
   "source": []
  },
  {
   "cell_type": "code",
   "execution_count": null,
   "metadata": {},
   "outputs": [],
   "source": []
  },
  {
   "cell_type": "code",
   "execution_count": null,
   "metadata": {},
   "outputs": [],
   "source": []
  },
  {
   "cell_type": "code",
   "execution_count": null,
   "metadata": {},
   "outputs": [],
   "source": [
    "degree = 2\n",
    "poly_fit = np.poly1d(np.polyfit(X,Y, degree))"
   ]
  },
  {
   "cell_type": "code",
   "execution_count": 58,
   "metadata": {
    "collapsed": true
   },
   "outputs": [
    {
     "ename": "ValueError",
     "evalue": "x and y must have same first dimension, but have shapes (500,) and (1,)",
     "output_type": "error",
     "traceback": [
      "\u001b[0;31m---------------------------------------------------------------------------\u001b[0m",
      "\u001b[0;31mValueError\u001b[0m                                Traceback (most recent call last)",
      "\u001b[0;32m<ipython-input-58-335928d81423>\u001b[0m in \u001b[0;36m<module>\u001b[0;34m\u001b[0m\n\u001b[1;32m      3\u001b[0m \u001b[0;31m# https://realpython.com/ggplot-python/\u001b[0m\u001b[0;34m\u001b[0m\u001b[0;34m\u001b[0m\u001b[0;34m\u001b[0m\u001b[0m\n\u001b[1;32m      4\u001b[0m \u001b[0;31m# https://matplotlib.org/3.1.1/gallery/style_sheets/ggplot.html\u001b[0m\u001b[0;34m\u001b[0m\u001b[0;34m\u001b[0m\u001b[0;34m\u001b[0m\u001b[0m\n\u001b[0;32m----> 5\u001b[0;31m \u001b[0mx\u001b[0m \u001b[0;34m=\u001b[0m \u001b[0mplt\u001b[0m\u001b[0;34m.\u001b[0m\u001b[0mplot\u001b[0m\u001b[0;34m(\u001b[0m\u001b[0mX\u001b[0m\u001b[0;34m,\u001b[0m \u001b[0my\u001b[0m\u001b[0;34m,\u001b[0m \u001b[0;34m'g.'\u001b[0m\u001b[0;34m,\u001b[0m \u001b[0mlabel\u001b[0m \u001b[0;34m=\u001b[0m \u001b[0;34m'Power Output'\u001b[0m\u001b[0;34m)\u001b[0m\u001b[0;34m\u001b[0m\u001b[0;34m\u001b[0m\u001b[0m\n\u001b[0m\u001b[1;32m      6\u001b[0m \u001b[0my\u001b[0m \u001b[0;34m=\u001b[0m \u001b[0mplt\u001b[0m\u001b[0;34m.\u001b[0m\u001b[0mplot\u001b[0m\u001b[0;34m(\u001b[0m\u001b[0mnoSpeed\u001b[0m\u001b[0;34m,\u001b[0m \u001b[0mnoPower\u001b[0m\u001b[0;34m,\u001b[0m \u001b[0;34m'rv'\u001b[0m\u001b[0;34m,\u001b[0m \u001b[0mlabel\u001b[0m \u001b[0;34m=\u001b[0m \u001b[0;34m'No Power Output'\u001b[0m\u001b[0;34m)\u001b[0m\u001b[0;34m\u001b[0m\u001b[0;34m\u001b[0m\u001b[0m\n\u001b[1;32m      7\u001b[0m \u001b[0mpoly_fit\u001b[0m \u001b[0;34m=\u001b[0m \u001b[0mnp\u001b[0m\u001b[0;34m.\u001b[0m\u001b[0mpoly1d\u001b[0m\u001b[0;34m(\u001b[0m\u001b[0mnp\u001b[0m\u001b[0;34m.\u001b[0m\u001b[0mpolyfit\u001b[0m\u001b[0;34m(\u001b[0m\u001b[0mX\u001b[0m\u001b[0;34m,\u001b[0m\u001b[0my\u001b[0m\u001b[0;34m,\u001b[0m \u001b[0;36m3\u001b[0m\u001b[0;34m)\u001b[0m\u001b[0;34m)\u001b[0m\u001b[0;34m\u001b[0m\u001b[0;34m\u001b[0m\u001b[0m\n",
      "\u001b[0;32m~/opt/anaconda3/lib/python3.7/site-packages/matplotlib/pyplot.py\u001b[0m in \u001b[0;36mplot\u001b[0;34m(scalex, scaley, data, *args, **kwargs)\u001b[0m\n\u001b[1;32m   2793\u001b[0m     return gca().plot(\n\u001b[1;32m   2794\u001b[0m         *args, scalex=scalex, scaley=scaley, **({\"data\": data} if data\n\u001b[0;32m-> 2795\u001b[0;31m         is not None else {}), **kwargs)\n\u001b[0m\u001b[1;32m   2796\u001b[0m \u001b[0;34m\u001b[0m\u001b[0m\n\u001b[1;32m   2797\u001b[0m \u001b[0;34m\u001b[0m\u001b[0m\n",
      "\u001b[0;32m~/opt/anaconda3/lib/python3.7/site-packages/matplotlib/axes/_axes.py\u001b[0m in \u001b[0;36mplot\u001b[0;34m(self, scalex, scaley, data, *args, **kwargs)\u001b[0m\n\u001b[1;32m   1664\u001b[0m         \"\"\"\n\u001b[1;32m   1665\u001b[0m         \u001b[0mkwargs\u001b[0m \u001b[0;34m=\u001b[0m \u001b[0mcbook\u001b[0m\u001b[0;34m.\u001b[0m\u001b[0mnormalize_kwargs\u001b[0m\u001b[0;34m(\u001b[0m\u001b[0mkwargs\u001b[0m\u001b[0;34m,\u001b[0m \u001b[0mmlines\u001b[0m\u001b[0;34m.\u001b[0m\u001b[0mLine2D\u001b[0m\u001b[0;34m.\u001b[0m\u001b[0m_alias_map\u001b[0m\u001b[0;34m)\u001b[0m\u001b[0;34m\u001b[0m\u001b[0;34m\u001b[0m\u001b[0m\n\u001b[0;32m-> 1666\u001b[0;31m         \u001b[0mlines\u001b[0m \u001b[0;34m=\u001b[0m \u001b[0;34m[\u001b[0m\u001b[0;34m*\u001b[0m\u001b[0mself\u001b[0m\u001b[0;34m.\u001b[0m\u001b[0m_get_lines\u001b[0m\u001b[0;34m(\u001b[0m\u001b[0;34m*\u001b[0m\u001b[0margs\u001b[0m\u001b[0;34m,\u001b[0m \u001b[0mdata\u001b[0m\u001b[0;34m=\u001b[0m\u001b[0mdata\u001b[0m\u001b[0;34m,\u001b[0m \u001b[0;34m**\u001b[0m\u001b[0mkwargs\u001b[0m\u001b[0;34m)\u001b[0m\u001b[0;34m]\u001b[0m\u001b[0;34m\u001b[0m\u001b[0;34m\u001b[0m\u001b[0m\n\u001b[0m\u001b[1;32m   1667\u001b[0m         \u001b[0;32mfor\u001b[0m \u001b[0mline\u001b[0m \u001b[0;32min\u001b[0m \u001b[0mlines\u001b[0m\u001b[0;34m:\u001b[0m\u001b[0;34m\u001b[0m\u001b[0;34m\u001b[0m\u001b[0m\n\u001b[1;32m   1668\u001b[0m             \u001b[0mself\u001b[0m\u001b[0;34m.\u001b[0m\u001b[0madd_line\u001b[0m\u001b[0;34m(\u001b[0m\u001b[0mline\u001b[0m\u001b[0;34m)\u001b[0m\u001b[0;34m\u001b[0m\u001b[0;34m\u001b[0m\u001b[0m\n",
      "\u001b[0;32m~/opt/anaconda3/lib/python3.7/site-packages/matplotlib/axes/_base.py\u001b[0m in \u001b[0;36m__call__\u001b[0;34m(self, *args, **kwargs)\u001b[0m\n\u001b[1;32m    223\u001b[0m                 \u001b[0mthis\u001b[0m \u001b[0;34m+=\u001b[0m \u001b[0margs\u001b[0m\u001b[0;34m[\u001b[0m\u001b[0;36m0\u001b[0m\u001b[0;34m]\u001b[0m\u001b[0;34m,\u001b[0m\u001b[0;34m\u001b[0m\u001b[0;34m\u001b[0m\u001b[0m\n\u001b[1;32m    224\u001b[0m                 \u001b[0margs\u001b[0m \u001b[0;34m=\u001b[0m \u001b[0margs\u001b[0m\u001b[0;34m[\u001b[0m\u001b[0;36m1\u001b[0m\u001b[0;34m:\u001b[0m\u001b[0;34m]\u001b[0m\u001b[0;34m\u001b[0m\u001b[0;34m\u001b[0m\u001b[0m\n\u001b[0;32m--> 225\u001b[0;31m             \u001b[0;32myield\u001b[0m \u001b[0;32mfrom\u001b[0m \u001b[0mself\u001b[0m\u001b[0;34m.\u001b[0m\u001b[0m_plot_args\u001b[0m\u001b[0;34m(\u001b[0m\u001b[0mthis\u001b[0m\u001b[0;34m,\u001b[0m \u001b[0mkwargs\u001b[0m\u001b[0;34m)\u001b[0m\u001b[0;34m\u001b[0m\u001b[0;34m\u001b[0m\u001b[0m\n\u001b[0m\u001b[1;32m    226\u001b[0m \u001b[0;34m\u001b[0m\u001b[0m\n\u001b[1;32m    227\u001b[0m     \u001b[0;32mdef\u001b[0m \u001b[0mget_next_color\u001b[0m\u001b[0;34m(\u001b[0m\u001b[0mself\u001b[0m\u001b[0;34m)\u001b[0m\u001b[0;34m:\u001b[0m\u001b[0;34m\u001b[0m\u001b[0;34m\u001b[0m\u001b[0m\n",
      "\u001b[0;32m~/opt/anaconda3/lib/python3.7/site-packages/matplotlib/axes/_base.py\u001b[0m in \u001b[0;36m_plot_args\u001b[0;34m(self, tup, kwargs)\u001b[0m\n\u001b[1;32m    389\u001b[0m             \u001b[0mx\u001b[0m\u001b[0;34m,\u001b[0m \u001b[0my\u001b[0m \u001b[0;34m=\u001b[0m \u001b[0mindex_of\u001b[0m\u001b[0;34m(\u001b[0m\u001b[0mtup\u001b[0m\u001b[0;34m[\u001b[0m\u001b[0;34m-\u001b[0m\u001b[0;36m1\u001b[0m\u001b[0;34m]\u001b[0m\u001b[0;34m)\u001b[0m\u001b[0;34m\u001b[0m\u001b[0;34m\u001b[0m\u001b[0m\n\u001b[1;32m    390\u001b[0m \u001b[0;34m\u001b[0m\u001b[0m\n\u001b[0;32m--> 391\u001b[0;31m         \u001b[0mx\u001b[0m\u001b[0;34m,\u001b[0m \u001b[0my\u001b[0m \u001b[0;34m=\u001b[0m \u001b[0mself\u001b[0m\u001b[0;34m.\u001b[0m\u001b[0m_xy_from_xy\u001b[0m\u001b[0;34m(\u001b[0m\u001b[0mx\u001b[0m\u001b[0;34m,\u001b[0m \u001b[0my\u001b[0m\u001b[0;34m)\u001b[0m\u001b[0;34m\u001b[0m\u001b[0;34m\u001b[0m\u001b[0m\n\u001b[0m\u001b[1;32m    392\u001b[0m \u001b[0;34m\u001b[0m\u001b[0m\n\u001b[1;32m    393\u001b[0m         \u001b[0;32mif\u001b[0m \u001b[0mself\u001b[0m\u001b[0;34m.\u001b[0m\u001b[0mcommand\u001b[0m \u001b[0;34m==\u001b[0m \u001b[0;34m'plot'\u001b[0m\u001b[0;34m:\u001b[0m\u001b[0;34m\u001b[0m\u001b[0;34m\u001b[0m\u001b[0m\n",
      "\u001b[0;32m~/opt/anaconda3/lib/python3.7/site-packages/matplotlib/axes/_base.py\u001b[0m in \u001b[0;36m_xy_from_xy\u001b[0;34m(self, x, y)\u001b[0m\n\u001b[1;32m    268\u001b[0m         \u001b[0;32mif\u001b[0m \u001b[0mx\u001b[0m\u001b[0;34m.\u001b[0m\u001b[0mshape\u001b[0m\u001b[0;34m[\u001b[0m\u001b[0;36m0\u001b[0m\u001b[0;34m]\u001b[0m \u001b[0;34m!=\u001b[0m \u001b[0my\u001b[0m\u001b[0;34m.\u001b[0m\u001b[0mshape\u001b[0m\u001b[0;34m[\u001b[0m\u001b[0;36m0\u001b[0m\u001b[0;34m]\u001b[0m\u001b[0;34m:\u001b[0m\u001b[0;34m\u001b[0m\u001b[0;34m\u001b[0m\u001b[0m\n\u001b[1;32m    269\u001b[0m             raise ValueError(\"x and y must have same first dimension, but \"\n\u001b[0;32m--> 270\u001b[0;31m                              \"have shapes {} and {}\".format(x.shape, y.shape))\n\u001b[0m\u001b[1;32m    271\u001b[0m         \u001b[0;32mif\u001b[0m \u001b[0mx\u001b[0m\u001b[0;34m.\u001b[0m\u001b[0mndim\u001b[0m \u001b[0;34m>\u001b[0m \u001b[0;36m2\u001b[0m \u001b[0;32mor\u001b[0m \u001b[0my\u001b[0m\u001b[0;34m.\u001b[0m\u001b[0mndim\u001b[0m \u001b[0;34m>\u001b[0m \u001b[0;36m2\u001b[0m\u001b[0;34m:\u001b[0m\u001b[0;34m\u001b[0m\u001b[0;34m\u001b[0m\u001b[0m\n\u001b[1;32m    272\u001b[0m             raise ValueError(\"x and y can be no greater than 2-D, but have \"\n",
      "\u001b[0;31mValueError\u001b[0m: x and y must have same first dimension, but have shapes (500,) and (1,)"
     ]
    },
    {
     "data": {
      "image/png": "[encoded data removed]",
      "text/plain": [
       "<Figure size 1080x720 with 1 Axes>"
      ]
     },
     "metadata": {},
     "output_type": "display_data"
    }
   ],
   "source": [
    "# https://stackoverflow.com/questions/50120633/plotting-line-graph-with-highlighted-data-points/50120670\n",
    "# https://www.kite.com/python/answers/how-to-change-the-frequency-of-ticks-in-a-matplotlib-figure-in-python\n",
    "# https://realpython.com/ggplot-python/\n",
    "# https://matplotlib.org/3.1.1/gallery/style_sheets/ggplot.html\n",
    "x = plt.plot(X, y, 'g.', label = 'Power Output')\n",
    "y = plt.plot(noSpeed, noPower, 'rv', label = 'No Power Output')\n",
    "poly_fit = np.poly1d(np.polyfit(X,y, 3))\n",
    "plt.plot(poly_fit)\n",
    "plt.plot(X,m * X + c, 'b-', label = 'Best Fit Line')\n",
    "plt.plot(X, m1 * X  * X + c1 * X + b, 'm-', label = '2nd Best Fit Line')\n",
    "plt.xlabel('Speed')\n",
    "plt.ylabel('Power')\n",
    "plt.xticks(np.arange(0,28,2))\n",
    "plt.yticks(np.arange(0,120,10))\n",
    "plt.legend()"
   ]
  },
  {
   "cell_type": "code",
   "execution_count": null,
   "metadata": {},
   "outputs": [],
   "source": [
    "np.polyfit(X, y,1)"
   ]
  },
  {
   "cell_type": "markdown",
   "metadata": {},
   "source": []
  },
  {
   "cell_type": "code",
   "execution_count": null,
   "metadata": {},
   "outputs": [],
   "source": []
  },
  {
   "cell_type": "code",
   "execution_count": null,
   "metadata": {},
   "outputs": [],
   "source": []
  },
  {
   "cell_type": "markdown",
   "metadata": {},
   "source": [
    "### Predicting \n",
    "\n",
    "use KFold"
   ]
  },
  {
   "cell_type": "code",
   "execution_count": 54,
   "metadata": {},
   "outputs": [],
   "source": [
    "Speed = df['speed']\n",
    "Power = df['power']"
   ]
  },
  {
   "cell_type": "code",
   "execution_count": 55,
   "metadata": {},
   "outputs": [],
   "source": [
    "# https://stackoverflow.com/questions/49514684/python-sklearn-fit-array-error/49517796\n",
    "# https://pandas.pydata.org/pandas-docs/version/0.22.0/generated/pandas.Series.reshape.html\n",
    "Speed = Speed.values.reshape(-1, 1)"
   ]
  },
  {
   "cell_type": "code",
   "execution_count": 10,
   "metadata": {},
   "outputs": [],
   "source": [
    "#import sklearn.model_selection as mod\n",
    "#speed_train, speed_test, power_train, power_test  = mod.train_test_split(Speed, Power, test_size=0.2, random_state = 0)"
   ]
  },
  {
   "cell_type": "code",
   "execution_count": 56,
   "metadata": {},
   "outputs": [],
   "source": [
    "import sklearn.model_selection as mod\n",
    "speed_train, speed_test, power_train, power_test  = mod.train_test_split(Speed, Power, test_size=0.33)"
   ]
  },
  {
   "cell_type": "code",
   "execution_count": 57,
   "metadata": {},
   "outputs": [
    {
     "name": "stdout",
     "output_type": "stream",
     "text": [
      "(335, 1) (335,)\n"
     ]
    }
   ],
   "source": [
    "print(speed_train.shape, power_train.shape)"
   ]
  },
  {
   "cell_type": "code",
   "execution_count": 58,
   "metadata": {},
   "outputs": [],
   "source": [
    "# https://scikit-learn.org/stable/modules/linear_model.html\n",
    "import sklearn.linear_model as lin\n",
    "reg = lin.LinearRegression()"
   ]
  },
  {
   "cell_type": "code",
   "execution_count": 59,
   "metadata": {},
   "outputs": [
    {
     "data": {
      "text/plain": [
       "LinearRegression(copy_X=True, fit_intercept=True, n_jobs=None, normalize=False)"
      ]
     },
     "execution_count": 59,
     "metadata": {},
     "output_type": "execute_result"
    }
   ],
   "source": [
    "reg.fit(speed_train, power_train)"
   ]
  },
  {
   "cell_type": "code",
   "execution_count": 60,
   "metadata": {
    "collapsed": true
   },
   "outputs": [
    {
     "data": {
      "text/plain": [
       "array([ 10.3996976 , 101.7432231 ,  96.39919729,  -4.54027644,\n",
       "        13.92355113,   9.79297351,  41.61443868,  25.096982  ,\n",
       "        67.1259733 ,  10.27835278, -10.12699188,  60.32095589,\n",
       "        12.94793879,  78.420749  ,  -6.11775908,  43.19677512,\n",
       "        58.01540434,  62.87405087,  70.64497304,  86.80324905,\n",
       "        84.37149889,  57.53002507,  60.07826625,  41.85712832,\n",
       "        38.58081822,  48.66214574,  60.44230071,  98.21936957,\n",
       "        39.79426641,  67.00462849,  92.63265413,  47.69138719,\n",
       "        46.83711967,  25.82505091,  71.13035231,  82.18729216,\n",
       "        69.43152485,  -5.26834535,  64.57287832,  79.27016273,\n",
       "        62.63136123,  34.93561988,  98.82609366,  42.95408548,\n",
       "        60.92767998,  66.02901615,  77.32864563,  73.0767232 ,\n",
       "         2.98795609,  83.40074035,  51.21038692,  47.81273201,\n",
       "         3.23064573,  24.73294755,  40.52233532,  71.86327501,\n",
       "        55.94768863,  74.16882656,  84.12880926, 107.32993853,\n",
       "        70.4022834 ,  63.35943014, 105.50491247,  55.21961972,\n",
       "        62.26732678,  32.3825249 ,  77.57133527,  28.74218035,\n",
       "       -12.80143168,  44.53156812,  73.19806802,  71.62058538,\n",
       "        16.22910268,  83.15805071,  13.06928361,  99.67550739,\n",
       "         7.60391298,  41.37174905,  36.51310252,  31.53311117,\n",
       "       -11.46663867,  38.33812859, -12.07336277, 102.10725755,\n",
       "        69.91690413,  68.33942149,  58.62212843,  11.49180097,\n",
       "        64.20884387,  23.03412009,  15.7437234 ,  34.57158542,\n",
       "        36.87713697,  84.97822299,  95.42358495,  78.78478346,\n",
       "        29.7129389 ,  19.87430102,   5.78374071,  90.68628324,\n",
       "        99.79685221,  13.55951667,  71.98461983,  56.31172309,\n",
       "       104.53415392,  83.52208517,   4.93432698,   4.57029252,\n",
       "        15.25834413,  94.81686086,  36.02772325,   1.16778382,\n",
       "       -10.73371597,  94.08879195,   1.28912864,  81.82325771,\n",
       "        97.36995584,  19.7529562 ,  90.80762806,   3.7208788 ,\n",
       "        69.79555931,  15.62237858,  51.57442138,  -3.20548344,\n",
       "        64.69422314,  47.0798093 ,  11.85583542,  54.61289563,\n",
       "        28.49949071, -10.61237115, 103.92742983,  69.67421449,\n",
       "        90.44359361,   5.54105107, 101.62187828,  49.87559392,\n",
       "        10.76373206,  53.27810263,  24.49025791,  16.83582677,\n",
       "        61.77709371,  75.98899884,  29.59159408,  85.94898153,\n",
       "        31.77580081,  39.43023195,  48.05542164,  99.43281775,\n",
       "        81.45922325,  23.27680973, 103.32070573,  31.29042154,\n",
       "         2.13854236,  41.49309387,  45.62367148,  91.54055076,\n",
       "        82.91536107,  17.44255086,  54.73424045,  65.66498169,\n",
       "        99.91819703,   1.41047345,  11.24911133,  21.0877492 ,\n",
       "        16.35044749])"
      ]
     },
     "execution_count": 60,
     "metadata": {},
     "output_type": "execute_result"
    }
   ],
   "source": [
    "reg.predict(speed_test)"
   ]
  },
  {
   "cell_type": "code",
   "execution_count": 63,
   "metadata": {},
   "outputs": [],
   "source": [
    "powerhat = pd.Series(reg.predict(speed_test))"
   ]
  },
  {
   "cell_type": "code",
   "execution_count": 64,
   "metadata": {},
   "outputs": [
    {
     "data": {
      "text/plain": [
       "count    165.000000\n",
       "mean      49.416396\n",
       "std       33.190904\n",
       "min      -12.801432\n",
       "25%       19.874301\n",
       "50%       51.210387\n",
       "75%       75.988999\n",
       "max      107.329939\n",
       "dtype: float64"
      ]
     },
     "execution_count": 64,
     "metadata": {},
     "output_type": "execute_result"
    }
   ],
   "source": [
    "powerhat.describe()"
   ]
  },
  {
   "cell_type": "code",
   "execution_count": 70,
   "metadata": {},
   "outputs": [
    {
     "name": "stderr",
     "output_type": "stream",
     "text": [
      "/Users/Shane/opt/anaconda3/lib/python3.7/site-packages/sklearn/neighbors/lof.py:236: FutureWarning: default contamination parameter 0.1 will change in version 0.22 to \"auto\". This will change the predict method behavior.\n",
      "  FutureWarning)\n"
     ]
    }
   ],
   "source": [
    "# identify outliers in the training dataset\n",
    "from sklearn.neighbors import LocalOutlierFactor\n",
    "lof = LocalOutlierFactor()\n",
    "powerhat_lof = lof.fit_predict(speed_train)\n",
    "Powerhat_lof = pd.Series(powerhat_lof)"
   ]
  },
  {
   "cell_type": "code",
   "execution_count": 71,
   "metadata": {},
   "outputs": [
    {
     "data": {
      "text/plain": [
       "count    301.000000\n",
       "mean       0.800664\n",
       "std        0.600111\n",
       "min       -1.000000\n",
       "25%        1.000000\n",
       "50%        1.000000\n",
       "75%        1.000000\n",
       "max        1.000000\n",
       "dtype: float64"
      ]
     },
     "execution_count": 71,
     "metadata": {},
     "output_type": "execute_result"
    }
   ],
   "source": [
    "Powerhat_lof.describe()"
   ]
  },
  {
   "cell_type": "code",
   "execution_count": 72,
   "metadata": {},
   "outputs": [],
   "source": [
    "# select all rows that are not outliers\n",
    "mask = powerhat_lof != -1\n",
    "speed_train, power_train = speed_train[mask, :], power_train[mask]"
   ]
  },
  {
   "cell_type": "code",
   "execution_count": 73,
   "metadata": {},
   "outputs": [
    {
     "name": "stdout",
     "output_type": "stream",
     "text": [
      "(271, 1) (271,)\n"
     ]
    }
   ],
   "source": [
    "# summarize the shape of the updated training dataset\n",
    "print(speed_train.shape, power_train.shape)\n",
    "# fit the model\n",
    "reg.fit(speed_train, power_train)\n",
    "# evaluate the model\n",
    "yhat = reg.predict(speed_test)\n",
    "# evaluate predictions\n",
    "#mae = mean_absolute_error(y_test, yhat)\n",
    "#print('MAE: %.3f' % mae)"
   ]
  },
  {
   "cell_type": "markdown",
   "metadata": {},
   "source": [
    "[] https://www.ritchieng.com/machine-learning-evaluate-linear-regression-model/"
   ]
  },
  {
   "cell_type": "markdown",
   "metadata": {},
   "source": [
    "### Evaluate"
   ]
  },
  {
   "cell_type": "code",
   "execution_count": 74,
   "metadata": {},
   "outputs": [
    {
     "data": {
      "text/plain": [
       "90     False\n",
       "474    False\n",
       "449    False\n",
       "39     False\n",
       "106    False\n",
       "       ...  \n",
       "464    False\n",
       "58     False\n",
       "95     False\n",
       "140    False\n",
       "121    False\n",
       "Name: power, Length: 165, dtype: bool"
      ]
     },
     "execution_count": 74,
     "metadata": {},
     "output_type": "execute_result"
    }
   ],
   "source": [
    "reg.predict(speed_test) == power_test"
   ]
  },
  {
   "cell_type": "code",
   "execution_count": 75,
   "metadata": {},
   "outputs": [
    {
     "data": {
      "text/plain": [
       "0"
      ]
     },
     "execution_count": 75,
     "metadata": {},
     "output_type": "execute_result"
    }
   ],
   "source": [
    "(reg.predict(speed_test) == power_test).sum()"
   ]
  },
  {
   "cell_type": "code",
   "execution_count": 76,
   "metadata": {},
   "outputs": [
    {
     "name": "stdout",
     "output_type": "stream",
     "text": [
      "[5.67397036]\n",
      "-20.351120914212103\n"
     ]
    }
   ],
   "source": [
    "print(reg.coef_)\n",
    "print(reg.intercept_)"
   ]
  },
  {
   "cell_type": "code",
   "execution_count": 77,
   "metadata": {},
   "outputs": [],
   "source": [
    "import sklearn.metrics as met\n",
    "score = met.r2_score\n",
    "power_pred = reg.predict(speed_test)"
   ]
  },
  {
   "cell_type": "code",
   "execution_count": 78,
   "metadata": {
    "scrolled": false
   },
   "outputs": [
    {
     "data": {
      "text/plain": [
       "0.7037884502551189"
      ]
     },
     "execution_count": 78,
     "metadata": {},
     "output_type": "execute_result"
    }
   ],
   "source": [
    "score(power_test, power_pred)"
   ]
  },
  {
   "cell_type": "code",
   "execution_count": null,
   "metadata": {},
   "outputs": [],
   "source": []
  },
  {
   "cell_type": "markdown",
   "metadata": {},
   "source": [
    "### <u>Neural Network<u>"
   ]
  },
  {
   "cell_type": "code",
   "execution_count": 29,
   "metadata": {},
   "outputs": [
    {
     "data": {
      "text/plain": [
       "array([[0.00000000e+00, 2.49033589e+00],\n",
       "       [0.00000000e+00, 2.52877469e+00],\n",
       "       [0.00000000e+00, 2.53646244e+00],\n",
       "       [0.00000000e+00, 2.55952572e+00],\n",
       "       [0.00000000e+00, 2.57490124e+00],\n",
       "       [4.33100000e+00, 2.59027675e+00],\n",
       "       [5.18600000e+00, 2.61334003e+00],\n",
       "       [3.82600000e+00, 2.62871555e+00],\n",
       "       [1.04800000e+00, 2.64439857e+00],\n",
       "       [5.55300000e+00, 2.65208633e+00],\n",
       "       [6.49800000e+00, 2.65977409e+00],\n",
       "       [5.24100000e+00, 2.66746185e+00],\n",
       "       [4.22000000e+00, 2.68283737e+00],\n",
       "       [7.97400000e+00, 2.69821288e+00],\n",
       "       [9.74600000e+00, 2.70590064e+00],\n",
       "       [0.00000000e+00, 2.71358840e+00],\n",
       "       [0.00000000e+00, 2.72127616e+00],\n",
       "       [7.27100000e+00, 2.73665168e+00],\n",
       "       [7.95000000e-01, 2.74433944e+00],\n",
       "       [7.35000000e+00, 2.75202719e+00],\n",
       "       [1.99600000e+00, 2.77509047e+00],\n",
       "       [1.60900000e+00, 2.78277823e+00],\n",
       "       [2.06400000e+00, 2.79046599e+00],\n",
       "       [6.51100000e+00, 2.79815375e+00],\n",
       "       [0.00000000e+00, 2.80584150e+00],\n",
       "       [2.08500000e+00, 2.81352926e+00],\n",
       "       [0.00000000e+00, 2.82121702e+00],\n",
       "       [1.21000000e-01, 2.82890478e+00],\n",
       "       [1.20800000e+00, 2.84428030e+00],\n",
       "       [3.37300000e+00, 2.87503133e+00],\n",
       "       [6.51000000e+00, 2.88271909e+00],\n",
       "       [0.00000000e+00, 2.89040685e+00],\n",
       "       [4.15600000e+00, 2.92115788e+00],\n",
       "       [2.00500000e+00, 2.92884564e+00],\n",
       "       [5.35200000e+00, 2.95221643e+00],\n",
       "       [0.00000000e+00, 2.96759194e+00],\n",
       "       [7.22100000e+00, 2.99834298e+00],\n",
       "       [0.00000000e+00, 3.00603074e+00],\n",
       "       [2.43900000e+00, 3.01371849e+00],\n",
       "       [0.00000000e+00, 3.05215729e+00],\n",
       "       [2.35900000e+00, 3.06753280e+00],\n",
       "       [7.04800000e+00, 3.07522056e+00],\n",
       "       [0.00000000e+00, 3.11365936e+00],\n",
       "       [0.00000000e+00, 3.12903487e+00],\n",
       "       [0.00000000e+00, 3.13672263e+00],\n",
       "       [2.70100000e+00, 3.15978591e+00],\n",
       "       [2.86900000e+00, 3.17516142e+00],\n",
       "       [0.00000000e+00, 3.18284918e+00],\n",
       "       [2.28700000e+00, 3.22897573e+00],\n",
       "       [6.94700000e+00, 3.25203901e+00],\n",
       "       [2.37000000e+00, 3.27540980e+00],\n",
       "       [3.16500000e+00, 3.28309755e+00],\n",
       "       [6.67000000e-01, 3.32153635e+00],\n",
       "       [7.55900000e+00, 3.35997514e+00],\n",
       "       [1.41310000e+01, 3.36766290e+00],\n",
       "       [2.89400000e+00, 3.39841393e+00],\n",
       "       [3.57800000e+00, 3.41378945e+00],\n",
       "       [2.63300000e+00, 3.42147721e+00],\n",
       "       [2.83600000e+00, 3.42916497e+00],\n",
       "       [3.06300000e+00, 3.43685272e+00],\n",
       "       [0.00000000e+00, 3.45222824e+00],\n",
       "       [1.36000000e+00, 3.47529152e+00],\n",
       "       [4.33400000e+00, 3.52910583e+00],\n",
       "       [2.16700000e+00, 3.53679359e+00],\n",
       "       [6.81900000e+00, 3.54448134e+00],\n",
       "       [0.00000000e+00, 3.56785213e+00],\n",
       "       [5.30000000e+00, 3.57553989e+00],\n",
       "       [0.00000000e+00, 3.59091541e+00],\n",
       "       [1.53500000e+00, 3.59860316e+00],\n",
       "       [9.89000000e+00, 3.60629092e+00],\n",
       "       [0.00000000e+00, 3.62166644e+00],\n",
       "       [2.27000000e+00, 3.62935420e+00],\n",
       "       [4.59500000e+00, 3.63704196e+00],\n",
       "       [0.00000000e+00, 3.65241747e+00],\n",
       "       [0.00000000e+00, 3.66010523e+00],\n",
       "       [0.00000000e+00, 3.68316851e+00],\n",
       "       [4.45300000e+00, 3.69085627e+00],\n",
       "       [4.41500000e+00, 3.69854403e+00],\n",
       "       [1.32000000e-01, 3.70623178e+00],\n",
       "       [2.03000000e+00, 3.71391954e+00],\n",
       "       [1.03500000e+00, 3.77542161e+00],\n",
       "       [4.43700000e+00, 3.81386040e+00],\n",
       "       [1.04300000e+00, 3.82154816e+00],\n",
       "       [0.00000000e+00, 3.85229920e+00],\n",
       "       [3.93400000e+00, 3.88335774e+00],\n",
       "       [6.82400000e+00, 3.89104550e+00],\n",
       "       [1.35920000e+01, 3.90642102e+00],\n",
       "       [8.20000000e-01, 3.94485981e+00],\n",
       "       [1.04440000e+01, 3.96023533e+00],\n",
       "       [0.00000000e+00, 3.99098636e+00],\n",
       "       [7.06000000e+00, 3.99867412e+00],\n",
       "       [9.46000000e-01, 4.00636188e+00],\n",
       "       [1.90700000e+00, 4.01404964e+00],\n",
       "       [1.68100000e+00, 4.02173739e+00],\n",
       "       [9.51900000e+00, 4.03711291e+00],\n",
       "       [2.97300000e+00, 4.05248843e+00],\n",
       "       [8.62300000e+00, 4.06786395e+00],\n",
       "       [4.52500000e+00, 4.08323946e+00],\n",
       "       [9.32000000e-01, 4.09092722e+00],\n",
       "       [2.47800000e+00, 4.10630274e+00],\n",
       "       [1.13000000e-01, 4.11399050e+00],\n",
       "       [1.16640000e+01, 4.12167826e+00],\n",
       "       [9.29000000e-01, 4.16011705e+00],\n",
       "       [4.45400000e+00, 4.16780481e+00],\n",
       "       [3.20000000e+00, 4.18348783e+00],\n",
       "       [0.00000000e+00, 4.19886335e+00],\n",
       "       [6.18400000e+00, 4.22192663e+00],\n",
       "       [3.03600000e+00, 4.23730214e+00],\n",
       "       [1.62600000e+00, 4.24498990e+00],\n",
       "       [5.63100000e+00, 4.25267766e+00],\n",
       "       [0.00000000e+00, 4.26805318e+00],\n",
       "       [0.00000000e+00, 4.27574094e+00],\n",
       "       [4.38000000e+00, 4.28342870e+00],\n",
       "       [1.82600000e+00, 4.30649197e+00],\n",
       "       [0.00000000e+00, 4.31417973e+00],\n",
       "       [4.29200000e+00, 4.32186749e+00],\n",
       "       [2.76200000e+00, 4.32955525e+00],\n",
       "       [5.53900000e+00, 4.33724301e+00],\n",
       "       [3.91200000e+00, 4.34493076e+00],\n",
       "       [3.96000000e+00, 4.36030628e+00],\n",
       "       [9.97000000e-01, 4.36799404e+00],\n",
       "       [1.08640000e+01, 4.37568180e+00],\n",
       "       [2.23600000e+00, 4.38336956e+00],\n",
       "       [5.34700000e+00, 4.39105732e+00],\n",
       "       [6.49100000e+00, 4.40643283e+00],\n",
       "       [5.84200000e+00, 4.44487163e+00],\n",
       "       [6.44600000e+00, 4.46024714e+00],\n",
       "       [3.51000000e+00, 4.47562266e+00],\n",
       "       [1.02620000e+01, 4.48311510e+00],\n",
       "       [5.68200000e+00, 4.48941201e+00],\n",
       "       [1.00440000e+01, 4.48539639e+00],\n",
       "       [9.07900000e+00, 4.46731983e+00],\n",
       "       [1.53000000e+00, 4.45828154e+00],\n",
       "       [0.00000000e+00, 4.44924326e+00],\n",
       "       [8.61600000e+00, 4.43116669e+00],\n",
       "       [0.00000000e+00, 4.42212841e+00],\n",
       "       [0.00000000e+00, 4.38597528e+00],\n",
       "       [4.18700000e+00, 4.38983691e+00],\n",
       "       [1.48500000e+00, 4.74921716e+00],\n",
       "       [9.77900000e+00, 4.86901058e+00],\n",
       "       [0.00000000e+00, 4.98880400e+00],\n",
       "       [7.97300000e+00, 5.22839083e+00],\n",
       "       [6.70000000e-02, 5.34818425e+00],\n",
       "       [8.23800000e+00, 5.46797767e+00],\n",
       "       [9.40600000e+00, 5.58777108e+00],\n",
       "       [5.25200000e+00, 5.70756450e+00],\n",
       "       [4.24300000e+00, 5.94715133e+00],\n",
       "       [4.59700000e+00, 6.30362473e+00],\n",
       "       [3.12200000e+00, 6.41262933e+00],\n",
       "       [0.00000000e+00, 6.52163393e+00],\n",
       "       [9.03400000e+00, 6.85300792e+00],\n",
       "       [6.85300000e+00, 7.07101712e+00],\n",
       "       [8.47100000e+00, 7.28902632e+00],\n",
       "       [1.47880000e+01, 7.39803092e+00],\n",
       "       [7.24500000e+00, 7.61604012e+00],\n",
       "       [1.02970000e+01, 7.72504472e+00],\n",
       "       [4.44300000e+00, 7.83178914e+00],\n",
       "       [1.31420000e+01, 8.10768863e+00],\n",
       "       [1.13210000e+01, 8.19460086e+00],\n",
       "       [9.38500000e+00, 8.28151308e+00],\n",
       "       [5.94700000e+00, 8.36842531e+00],\n",
       "       [1.45110000e+01, 8.45533753e+00],\n",
       "       [5.69600000e+00, 8.54224976e+00],\n",
       "       [6.98300000e+00, 8.88989866e+00],\n",
       "       [5.38500000e+00, 9.06372312e+00],\n",
       "       [1.17490000e+01, 9.23754757e+00],\n",
       "       [7.83000000e+00, 9.41137202e+00],\n",
       "       [7.78500000e+00, 9.49828425e+00],\n",
       "       [9.81200000e+00, 9.84593315e+00],\n",
       "       [6.65600000e+00, 1.01935821e+01],\n",
       "       [3.00000000e+00, 1.03674065e+01],\n",
       "       [1.14220000e+01, 1.06316197e+01],\n",
       "       [1.31130000e+01, 1.09792686e+01],\n",
       "       [1.64130000e+01, 1.10661808e+01],\n",
       "       [9.42000000e+00, 1.11530930e+01],\n",
       "       [8.93700000e+00, 1.14138297e+01],\n",
       "       [1.07600000e+01, 1.16745664e+01],\n",
       "       [1.41600000e+01, 1.17614786e+01],\n",
       "       [1.66970000e+01, 1.18483908e+01],\n",
       "       [5.55400000e+00, 1.21091275e+01],\n",
       "       [1.11200000e+01, 1.29782498e+01],\n",
       "       [1.37740000e+01, 1.31520742e+01],\n",
       "       [1.28810000e+01, 1.33258987e+01],\n",
       "       [1.80360000e+01, 1.41921620e+01],\n",
       "       [1.80420000e+01, 1.51319589e+01],\n",
       "       [9.91100000e+00, 1.53645820e+01],\n",
       "       [1.40550000e+01, 1.58298280e+01],\n",
       "       [1.73930000e+01, 1.69929430e+01],\n",
       "       [2.41640000e+01, 1.76908121e+01],\n",
       "       [1.53940000e+01, 1.79234351e+01],\n",
       "       [1.48450000e+01, 1.81560581e+01],\n",
       "       [2.71360000e+01, 1.83886811e+01],\n",
       "       [1.37840000e+01, 1.89451781e+01],\n",
       "       [1.36570000e+01, 1.92248988e+01],\n",
       "       [1.93540000e+01, 1.95046195e+01],\n",
       "       [1.61390000e+01, 2.00640609e+01],\n",
       "       [2.07090000e+01, 2.06235023e+01],\n",
       "       [2.64270000e+01, 2.09032230e+01],\n",
       "       [1.26240000e+01, 2.11829437e+01],\n",
       "       [1.64740000e+01, 2.14626644e+01],\n",
       "       [2.23050000e+01, 2.17423851e+01],\n",
       "       [2.07040000e+01, 2.20221058e+01],\n",
       "       [3.03410000e+01, 2.23018265e+01],\n",
       "       [2.42930000e+01, 2.25815472e+01],\n",
       "       [2.06360000e+01, 2.28612679e+01],\n",
       "       [2.81810000e+01, 2.37004300e+01],\n",
       "       [2.22160000e+01, 2.39801507e+01],\n",
       "       [1.35200000e+01, 2.50990335e+01],\n",
       "       [0.00000000e+00, 2.53899430e+01],\n",
       "       [2.27580000e+01, 2.59493844e+01],\n",
       "       [2.69270000e+01, 2.70682672e+01],\n",
       "       [2.49420000e+01, 2.76277086e+01],\n",
       "       [1.56380000e+01, 2.79074293e+01],\n",
       "       [2.36880000e+01, 2.81871500e+01],\n",
       "       [3.04830000e+01, 2.95857535e+01],\n",
       "       [3.11530000e+01, 3.04249156e+01],\n",
       "       [2.76880000e+01, 3.07046363e+01],\n",
       "       [2.84520000e+01, 3.09843570e+01],\n",
       "       [2.82210000e+01, 3.12640777e+01],\n",
       "       [3.13360000e+01, 3.21032398e+01],\n",
       "       [2.96010000e+01, 3.26626812e+01],\n",
       "       [3.15300000e+01, 3.32221226e+01],\n",
       "       [3.46930000e+01, 3.40612847e+01],\n",
       "       [4.02240000e+01, 3.43410054e+01],\n",
       "       [3.35890000e+01, 3.46207261e+01],\n",
       "       [3.81840000e+01, 3.49004469e+01],\n",
       "       [3.86360000e+01, 3.51801676e+01],\n",
       "       [3.12140000e+01, 3.77088427e+01],\n",
       "       [4.14860000e+01, 3.82682841e+01],\n",
       "       [4.24850000e+01, 3.85480048e+01],\n",
       "       [3.85520000e+01, 3.91074462e+01],\n",
       "       [3.67870000e+01, 3.96668876e+01],\n",
       "       [3.18400000e+01, 3.99466083e+01],\n",
       "       [4.16920000e+01, 4.05060497e+01],\n",
       "       [5.16810000e+01, 4.13452118e+01],\n",
       "       [3.72940000e+01, 4.16249325e+01],\n",
       "       [4.72680000e+01, 4.19046532e+01],\n",
       "       [3.95840000e+01, 4.24640946e+01],\n",
       "       [4.15990000e+01, 4.38626981e+01],\n",
       "       [4.50560000e+01, 4.41424188e+01],\n",
       "       [4.31980000e+01, 4.44221395e+01],\n",
       "       [4.61360000e+01, 4.49815809e+01],\n",
       "       [4.34540000e+01, 4.52613016e+01],\n",
       "       [4.72820000e+01, 4.58207430e+01],\n",
       "       [4.05190000e+01, 4.61004637e+01],\n",
       "       [3.71590000e+01, 4.63801844e+01],\n",
       "       [5.29520000e+01, 4.66599051e+01],\n",
       "       [4.47450000e+01, 4.72193465e+01],\n",
       "       [4.47350000e+01, 4.74990672e+01],\n",
       "       [4.48010000e+01, 4.80696975e+01],\n",
       "       [4.23360000e+01, 4.83494182e+01],\n",
       "       [5.40790000e+01, 4.86291389e+01],\n",
       "       [5.14710000e+01, 4.89088596e+01],\n",
       "       [4.48800000e+01, 4.94683010e+01],\n",
       "       [5.11490000e+01, 5.00277424e+01],\n",
       "       [4.73440000e+01, 5.03074631e+01],\n",
       "       [5.06580000e+01, 5.08669045e+01],\n",
       "       [4.77870000e+01, 5.17060666e+01],\n",
       "       [5.39540000e+01, 5.19857873e+01],\n",
       "       [5.32810000e+01, 5.28249494e+01],\n",
       "       [4.97960000e+01, 5.31046701e+01],\n",
       "       [5.81680000e+01, 5.36641115e+01],\n",
       "       [6.28300000e+01, 5.61815978e+01],\n",
       "       [5.97350000e+01, 5.67410392e+01],\n",
       "       [6.45410000e+01, 5.70207599e+01],\n",
       "       [6.23150000e+01, 5.75802013e+01],\n",
       "       [6.56050000e+01, 5.81396427e+01],\n",
       "       [6.58890000e+01, 5.92697143e+01],\n",
       "       [6.33830000e+01, 5.95494350e+01],\n",
       "       [6.11270000e+01, 6.12277592e+01],\n",
       "       [6.32650000e+01, 6.15074799e+01],\n",
       "       [6.39100000e+01, 6.37452455e+01],\n",
       "       [6.82320000e+01, 6.40249662e+01],\n",
       "       [6.55960000e+01, 6.43046869e+01],\n",
       "       [6.92400000e+01, 6.45844076e+01],\n",
       "       [6.65500000e+01, 6.48641283e+01],\n",
       "       [6.65960000e+01, 6.59830111e+01],\n",
       "       [6.72630000e+01, 6.65424525e+01],\n",
       "       [6.75120000e+01, 6.73816146e+01],\n",
       "       [6.86160000e+01, 6.76613353e+01],\n",
       "       [6.56420000e+01, 6.82207767e+01],\n",
       "       [7.65510000e+01, 6.85004974e+01],\n",
       "       [6.42210000e+01, 6.87802181e+01],\n",
       "       [7.17630000e+01, 6.98991010e+01],\n",
       "       [7.36520000e+01, 7.04697312e+01],\n",
       "       [6.72690000e+01, 7.10291726e+01],\n",
       "       [7.20160000e+01, 7.13088933e+01],\n",
       "       [7.95860000e+01, 7.15886140e+01],\n",
       "       [7.84990000e+01, 7.24277761e+01],\n",
       "       [6.96990000e+01, 7.27074968e+01],\n",
       "       [8.21470000e+01, 7.29872175e+01],\n",
       "       [7.54660000e+01, 7.38263796e+01],\n",
       "       [7.21350000e+01, 7.41061003e+01],\n",
       "       [7.39110000e+01, 7.63438659e+01],\n",
       "       [7.82840000e+01, 7.69033073e+01],\n",
       "       [7.77250000e+01, 7.71830280e+01],\n",
       "       [6.92480000e+01, 7.74627487e+01],\n",
       "       [7.71640000e+01, 7.77424694e+01],\n",
       "       [8.01830000e+01, 7.80221901e+01],\n",
       "       [7.17870000e+01, 7.83019108e+01],\n",
       "       [8.03900000e+01, 7.85816315e+01],\n",
       "       [8.72300000e+01, 7.91410729e+01],\n",
       "       [7.89870000e+01, 7.94207936e+01],\n",
       "       [8.32510000e+01, 8.02599557e+01],\n",
       "       [8.04180000e+01, 8.08193971e+01],\n",
       "       [7.85280000e+01, 8.10991178e+01],\n",
       "       [8.58910000e+01, 8.16322427e+01],\n",
       "       [8.12390000e+01, 8.20656581e+01],\n",
       "       [8.62880000e+01, 8.27157813e+01],\n",
       "       [8.72850000e+01, 8.31491967e+01],\n",
       "       [7.97200000e+01, 8.33659045e+01],\n",
       "       [8.41330000e+01, 8.35826122e+01],\n",
       "       [8.77410000e+01, 8.40160276e+01],\n",
       "       [7.89910000e+01, 8.48828585e+01],\n",
       "       [7.89940000e+01, 8.55329816e+01],\n",
       "       [7.86320000e+01, 8.59663971e+01],\n",
       "       [8.66110000e+01, 8.61831048e+01],\n",
       "       [9.04120000e+01, 8.63998125e+01],\n",
       "       [8.51730000e+01, 8.72666434e+01],\n",
       "       [8.71920000e+01, 8.77000588e+01],\n",
       "       [8.59990000e+01, 8.81334743e+01],\n",
       "       [8.80420000e+01, 8.87835974e+01],\n",
       "       [8.91340000e+01, 8.94337206e+01],\n",
       "       [9.65920000e+01, 8.96504283e+01],\n",
       "       [8.76630000e+01, 9.05259275e+01],\n",
       "       [9.29970000e+01, 9.07426352e+01],\n",
       "       [9.72740000e+01, 9.09593429e+01],\n",
       "       [9.27530000e+01, 9.13927584e+01],\n",
       "       [8.95270000e+01, 9.16094661e+01],\n",
       "       [9.36980000e+01, 9.18261738e+01],\n",
       "       [9.01710000e+01, 9.24762969e+01],\n",
       "       [9.75320000e+01, 9.29097124e+01],\n",
       "       [9.07610000e+01, 9.30605123e+01],\n",
       "       [9.49250000e+01, 9.30397231e+01],\n",
       "       [9.55930000e+01, 9.30189339e+01],\n",
       "       [9.18080000e+01, 9.29981446e+01],\n",
       "       [9.14910000e+01, 9.29773554e+01],\n",
       "       [9.40930000e+01, 9.29357770e+01],\n",
       "       [9.12700000e+01, 9.28941985e+01],\n",
       "       [9.56220000e+01, 9.28734093e+01],\n",
       "       [0.00000000e+00, 9.28526201e+01],\n",
       "       [1.00831000e+02, 9.27694632e+01],\n",
       "       [9.69700000e+01, 9.27278847e+01],\n",
       "       [8.96130000e+01, 9.27070955e+01],\n",
       "       [9.12060000e+01, 9.26863063e+01],\n",
       "       [9.53960000e+01, 9.26447278e+01],\n",
       "       [8.55330000e+01, 9.26239386e+01],\n",
       "       [1.00889000e+02, 9.26031494e+01],\n",
       "       [9.11250000e+01, 9.25823602e+01],\n",
       "       [8.77310000e+01, 9.25607394e+01],\n",
       "       [9.04350000e+01, 9.25399502e+01],\n",
       "       [8.95690000e+01, 9.25191609e+01],\n",
       "       [9.01420000e+01, 9.24983717e+01],\n",
       "       [9.33800000e+01, 9.24775825e+01],\n",
       "       [1.02322000e+02, 9.24567933e+01],\n",
       "       [1.00429000e+02, 9.23320579e+01],\n",
       "       [9.31050000e+01, 9.23112687e+01],\n",
       "       [9.12700000e+01, 9.22904795e+01],\n",
       "       [9.05460000e+01, 9.22489010e+01],\n",
       "       [9.14900000e+01, 9.21241657e+01],\n",
       "       [9.74270000e+01, 9.21033764e+01],\n",
       "       [8.97890000e+01, 9.20825872e+01],\n",
       "       [8.79800000e+01, 9.19786411e+01],\n",
       "       [9.07510000e+01, 9.19370627e+01],\n",
       "       [9.90900000e+01, 9.18954842e+01],\n",
       "       [9.85400000e+01, 9.18539058e+01],\n",
       "       [9.88550000e+01, 9.18331165e+01],\n",
       "       [9.92140000e+01, 9.18123273e+01],\n",
       "       [9.37690000e+01, 9.17283389e+01],\n",
       "       [1.04161000e+02, 9.17072173e+01],\n",
       "       [1.00485000e+02, 9.16633804e+01],\n",
       "       [9.92420000e+01, 9.16414620e+01],\n",
       "       [9.60580000e+01, 9.15757067e+01],\n",
       "       [9.66420000e+01, 9.15318699e+01],\n",
       "       [1.02440000e+02, 9.15084329e+01],\n",
       "       [9.60540000e+01, 9.14827954e+01],\n",
       "       [9.26550000e+01, 9.14309118e+01],\n",
       "       [8.79860000e+01, 9.14024719e+01],\n",
       "       [8.90470000e+01, 9.13455922e+01],\n",
       "       [9.80780000e+01, 9.13171524e+01],\n",
       "       [1.00142000e+02, 9.12602727e+01],\n",
       "       [1.02364000e+02, 9.12033929e+01],\n",
       "       [1.00287000e+02, 9.11749531e+01],\n",
       "       [9.71480000e+01, 9.11465132e+01],\n",
       "       [1.03387000e+02, 9.10611937e+01],\n",
       "       [1.00428000e+02, 9.10327538e+01],\n",
       "       [9.67250000e+01, 9.09474342e+01],\n",
       "       [1.00372000e+02, 9.07483552e+01],\n",
       "       [9.82720000e+01, 9.06334582e+01],\n",
       "       [9.48500000e+01, 9.06050183e+01],\n",
       "       [9.22030000e+01, 9.05765785e+01],\n",
       "       [9.15010000e+01, 9.05481386e+01],\n",
       "       [9.24610000e+01, 9.05196988e+01],\n",
       "       [9.65440000e+01, 9.04912589e+01],\n",
       "       [9.71730000e+01, 9.04628191e+01],\n",
       "       [1.03629000e+02, 9.04343792e+01],\n",
       "       [9.26100000e+01, 9.03774995e+01],\n",
       "       [9.47800000e+01, 9.03490596e+01],\n",
       "       [9.40710000e+01, 9.03206198e+01],\n",
       "       [1.04188000e+02, 9.02921799e+01],\n",
       "       [9.44890000e+01, 9.02353002e+01],\n",
       "       [9.94720000e+01, 9.01784205e+01],\n",
       "       [9.87900000e+01, 9.01499806e+01],\n",
       "       [9.96970000e+01, 9.00646611e+01],\n",
       "       [0.00000000e+00, 9.00077813e+01],\n",
       "       [8.90780000e+01, 8.99793415e+01],\n",
       "       [9.90290000e+01, 8.99509016e+01],\n",
       "       [9.69630000e+01, 8.99224618e+01],\n",
       "       [1.01507000e+02, 8.98655821e+01],\n",
       "       [9.50120000e+01, 8.98087023e+01],\n",
       "       [1.07584000e+02, 8.97802625e+01],\n",
       "       [1.00699000e+02, 8.97518226e+01],\n",
       "       [1.04258000e+02, 8.97233828e+01],\n",
       "       [1.01270000e+02, 8.95811835e+01],\n",
       "       [9.49800000e+01, 8.95231662e+01],\n",
       "       [1.03405000e+02, 8.94662865e+01],\n",
       "       [1.12362000e+02, 8.93809669e+01],\n",
       "       [9.95370000e+01, 8.93525270e+01],\n",
       "       [9.63410000e+01, 8.92387676e+01],\n",
       "       [9.42160000e+01, 8.92103278e+01],\n",
       "       [1.08485000e+02, 8.91250082e+01],\n",
       "       [9.91030000e+01, 8.89259292e+01],\n",
       "       [9.63480000e+01, 8.88974893e+01],\n",
       "       [1.01212000e+02, 8.88406096e+01],\n",
       "       [9.86820000e+01, 8.86130908e+01],\n",
       "       [8.85440000e+01, 8.85277712e+01],\n",
       "       [1.01721000e+02, 8.84993313e+01],\n",
       "       [1.00937000e+02, 8.84708915e+01],\n",
       "       [9.76710000e+01, 8.84424516e+01],\n",
       "       [8.97130000e+01, 8.84140118e+01],\n",
       "       [1.03433000e+02, 8.82706749e+01],\n",
       "       [1.06208000e+02, 8.82137952e+01],\n",
       "       [9.77970000e+01, 8.81569154e+01],\n",
       "       [1.03268000e+02, 8.80431560e+01],\n",
       "       [1.03922000e+02, 8.80147162e+01],\n",
       "       [1.04052000e+02, 8.79293966e+01],\n",
       "       [1.04516000e+02, 8.78156372e+01],\n",
       "       [9.94600000e+01, 8.77587574e+01],\n",
       "       [1.02281000e+02, 8.76734379e+01],\n",
       "       [9.66500000e+01, 8.75881183e+01],\n",
       "       [9.39310000e+01, 8.75596784e+01],\n",
       "       [9.35670000e+01, 8.75312386e+01],\n",
       "       [1.01190000e+02, 8.75027987e+01],\n",
       "       [1.00206000e+02, 8.74743589e+01],\n",
       "       [9.78030000e+01, 8.74459190e+01],\n",
       "       [9.93570000e+01, 8.73605995e+01],\n",
       "       [1.03306000e+02, 8.73037197e+01],\n",
       "       [1.09932000e+02, 8.72752799e+01],\n",
       "       [9.72560000e+01, 8.72457024e+01],\n",
       "       [1.00558000e+02, 8.71319430e+01],\n",
       "       [1.00698000e+02, 8.70750633e+01],\n",
       "       [9.39640000e+01, 8.70181836e+01],\n",
       "       [1.02544000e+02, 8.69613039e+01],\n",
       "       [9.80670000e+01, 8.69328640e+01],\n",
       "       [1.01342000e+02, 8.69044241e+01],\n",
       "       [1.00549000e+02, 8.68475444e+01],\n",
       "       [0.00000000e+00, 8.67053451e+01],\n",
       "       [1.01308000e+02, 8.66769053e+01],\n",
       "       [1.01654000e+02, 8.65631459e+01],\n",
       "       [1.02462000e+02, 8.64493864e+01],\n",
       "       [1.04655000e+02, 8.64209466e+01],\n",
       "       [1.13556000e+02, 8.63925067e+01],\n",
       "       [9.63370000e+01, 8.63640669e+01],\n",
       "       [9.82790000e+01, 8.63356270e+01],\n",
       "       [1.08167000e+02, 8.63071871e+01],\n",
       "       [1.04977000e+02, 8.62787473e+01],\n",
       "       [9.75230000e+01, 8.62218676e+01],\n",
       "       [9.48670000e+01, 8.61649879e+01],\n",
       "       [9.35270000e+01, 8.61365480e+01],\n",
       "       [9.80660000e+01, 8.60785307e+01],\n",
       "       [1.01120000e+02, 8.60500908e+01],\n",
       "       [1.00311000e+02, 8.60216510e+01],\n",
       "       [1.02644000e+02, 8.59932111e+01],\n",
       "       [9.18800000e+01, 8.59078916e+01],\n",
       "       [9.69860000e+01, 8.58794517e+01],\n",
       "       [9.46710000e+01, 8.57941321e+01],\n",
       "       [9.73340000e+01, 8.57656923e+01],\n",
       "       [1.00322000e+02, 8.57372524e+01],\n",
       "       [1.00089000e+02, 8.56803727e+01],\n",
       "       [9.53640000e+01, 8.56234930e+01],\n",
       "       [9.42700000e+01, 8.55950531e+01],\n",
       "       [1.05992000e+02, 8.55381734e+01],\n",
       "       [9.35240000e+01, 8.55097336e+01],\n",
       "       [9.58690000e+01, 8.53675343e+01],\n",
       "       [1.01419000e+02, 8.53390944e+01],\n",
       "       [1.03700000e+02, 8.52822147e+01],\n",
       "       [9.36940000e+01, 8.52253350e+01],\n",
       "       [9.30780000e+01, 8.51684553e+01],\n",
       "       [9.82230000e+01, 8.51400154e+01],\n",
       "       [9.51170000e+01, 8.51115756e+01],\n",
       "       [0.00000000e+00, 8.49978161e+01],\n",
       "       [0.00000000e+00, 8.49682387e+01],\n",
       "       [0.00000000e+00, 8.49113590e+01],\n",
       "       [0.00000000e+00, 8.48260394e+01],\n",
       "       [0.00000000e+00, 8.47122800e+01],\n",
       "       [0.00000000e+00, 8.46838401e+01],\n",
       "       [0.00000000e+00, 8.45985205e+01],\n",
       "       [0.00000000e+00, 8.45700807e+01],\n",
       "       [0.00000000e+00, 8.44847611e+01],\n",
       "       [0.00000000e+00, 8.44278814e+01]])"
      ]
     },
     "execution_count": 29,
     "metadata": {},
     "output_type": "execute_result"
    }
   ],
   "source": [
    "import sklearn.neural_network as sknn\n",
    "\n",
    "\n",
    "# Train the neural network.\n",
    "regr = sknn.MLPRegressor(max_iter=10000).fit(Speed, Power)\n",
    "\n",
    "# Show the predictions.\n",
    "np.array([Power, regr.predict(Speed)]).T"
   ]
  },
  {
   "cell_type": "code",
   "execution_count": 30,
   "metadata": {},
   "outputs": [
    {
     "data": {
      "text/plain": [
       "0.8625698123422274"
      ]
     },
     "execution_count": 30,
     "metadata": {},
     "output_type": "execute_result"
    }
   ],
   "source": [
    "regr.score(Speed, Power)"
   ]
  },
  {
   "cell_type": "code",
   "execution_count": null,
   "metadata": {},
   "outputs": [],
   "source": []
  },
  {
   "cell_type": "markdown",
   "metadata": {},
   "source": [
    "### Logistic Regression"
   ]
  },
  {
   "cell_type": "code",
   "execution_count": 82,
   "metadata": {},
   "outputs": [],
   "source": [
    "# https://towardsdatascience.com/logistic-regression-using-python-sklearn-numpy-mnist-handwriting-recognition-matplotlib-a6b31e2b166a\n",
    "#cant use logistic because it is or binary values \n",
    "from sklearn.linear_model import LogisticRegression\n",
    "logisticRegr = LogisticRegression()"
   ]
  },
  {
   "cell_type": "code",
   "execution_count": 84,
   "metadata": {},
   "outputs": [],
   "source": [
    "#logisticRegr.fit(speed_train, power_train)"
   ]
  },
  {
   "cell_type": "code",
   "execution_count": null,
   "metadata": {},
   "outputs": [],
   "source": []
  },
  {
   "cell_type": "code",
   "execution_count": null,
   "metadata": {},
   "outputs": [],
   "source": [
    "import sklearn. neighbors as nei"
   ]
  },
  {
   "cell_type": "code",
   "execution_count": null,
   "metadata": {},
   "outputs": [],
   "source": [
    "# create my inputs and outputs\n",
    "inputs = df[['speed']]\n",
    "outputs = df[['power']]"
   ]
  },
  {
   "cell_type": "code",
   "execution_count": null,
   "metadata": {},
   "outputs": [],
   "source": []
  },
  {
   "cell_type": "code",
   "execution_count": null,
   "metadata": {},
   "outputs": [],
   "source": []
  },
  {
   "cell_type": "code",
   "execution_count": null,
   "metadata": {},
   "outputs": [],
   "source": []
  },
  {
   "cell_type": "code",
   "execution_count": null,
   "metadata": {},
   "outputs": [],
   "source": [
    "# plot the data\n",
    "#sns.scatterplot(data=df)\n",
    "# x = the independent variable, y = dependent variable [] https://www.youtube.com/watch?v=zPG4NjIkCjc\n",
    "# x value is the input, y value is the output\n",
    "sns.relplot(x=\"speed\", y=\"power\", data=df)"
   ]
  },
  {
   "cell_type": "code",
   "execution_count": null,
   "metadata": {
    "scrolled": true
   },
   "outputs": [],
   "source": [
    "plt.plot(df[\"power\"], df[\"speed\"],'k.' )\n"
   ]
  },
  {
   "cell_type": "markdown",
   "metadata": {},
   "source": [
    "### Reference\n",
    "\n",
    "[1] https://seaborn.pydata.org/tutorial/relational.html#relating-variables-with-scatter-plots\n",
    "\n",
    "[2] https://seaborn.pydata.org/generated/seaborn.scatterplot.html#seaborn.scatterplot\n",
    "\n",
    "[3] https://www.youtube.com/watch?v=aq8VU5KLmkY&list=RDCMUC6AVa0vSrCpuskzGDDKz_EQ&start_radio=1&t=0\n",
    "\n",
    "https://towardsdatascience.com/polynomial-regression-with-scikit-learn-what-you-should-know-bed9d3296f2"
   ]
  },
  {
   "cell_type": "markdown",
   "metadata": {},
   "source": [
    "### ROugh work\n",
    "\n"
   ]
  },
  {
   "cell_type": "code",
   "execution_count": null,
   "metadata": {},
   "outputs": [],
   "source": []
  },
  {
   "cell_type": "code",
   "execution_count": null,
   "metadata": {},
   "outputs": [],
   "source": [
    "df[df['power'] == 0].shape"
   ]
  },
  {
   "cell_type": "code",
   "execution_count": null,
   "metadata": {},
   "outputs": [],
   "source": [
    "noPower = df['power'] == 0"
   ]
  },
  {
   "cell_type": "code",
   "execution_count": null,
   "metadata": {},
   "outputs": [],
   "source": [
    "noPower.head(5)"
   ]
  },
  {
   "cell_type": "code",
   "execution_count": null,
   "metadata": {},
   "outputs": [],
   "source": [
    "# [] https://seaborn.pydata.org/tutorial/relational.html\n",
    "sns.relplot(x=\"speed\", y=\"power\", kind=\"line\", data=df)"
   ]
  }
 ],
 "metadata": {
  "kernelspec": {
   "display_name": "Python 3",
   "language": "python",
   "name": "python3"
  },
  "language_info": {
   "codemirror_mode": {
    "name": "ipython",
    "version": 3
   },
   "file_extension": ".py",
   "mimetype": "text/x-python",
   "name": "python",
   "nbconvert_exporter": "python",
   "pygments_lexer": "ipython3",
   "version": "3.7.4"
  }
 },
 "nbformat": 4,
 "nbformat_minor": 2
}
